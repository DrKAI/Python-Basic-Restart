{
  "nbformat": 4,
  "nbformat_minor": 0,
  "metadata": {
    "colab": {
      "name": "02-1 숫자형.ipynb",
      "version": "0.3.2",
      "provenance": [],
      "collapsed_sections": [],
      "include_colab_link": true
    },
    "kernelspec": {
      "name": "python3",
      "display_name": "Python 3"
    }
  },
  "cells": [
    {
      "cell_type": "markdown",
      "metadata": {
        "id": "view-in-github",
        "colab_type": "text"
      },
      "source": [
        "<a href=\"https://colab.research.google.com/github/DrKAI/Python-Basic-Restart/blob/master/02_1_%EC%88%AB%EC%9E%90%ED%98%95.ipynb\" target=\"_parent\"><img src=\"https://colab.research.google.com/assets/colab-badge.svg\" alt=\"Open In Colab\"/></a>"
      ]
    },
    {
      "metadata": {
        "id": "Qlq2VJh_rlRu",
        "colab_type": "text"
      },
      "cell_type": "markdown",
      "source": [
        "# 프로그래밍의 기초, 자료형\n",
        "\n",
        "*\"어떤 프로그래밍 언어든 그 언어의 자료형을 알고 이해할 수 있다면 이미 그 언어의 절반을 터득한 것과 다름없다\"*\n",
        "\n",
        "자료형이란 프로그래밍을 할 때 쓰이는 숫자, 문자열 등 자료 형태로 사용하는 모든 것을 뜻한다."
      ]
    },
    {
      "metadata": {
        "id": "V82qmzofsewO",
        "colab_type": "text"
      },
      "cell_type": "markdown",
      "source": [
        "# 숫자형이란?\n",
        "\n",
        "숫자형(number)이란 숫자 형태로 이루어진 자료형으로, 우리가 이미 잘 알고 있는 것들이다.\n",
        "\n",
        "---\n",
        "\n",
        "**정수 : 123, -456, 0**\n",
        "\n",
        "**실수 : 123.45, -123.456, 3.4e10**\n",
        "\n",
        "**8진수 : 0o34, 0o25**\n",
        "\n",
        "**16진수 : 0x2A, 0xFF**\n",
        "\n",
        "---\n",
        "\n"
      ]
    },
    {
      "metadata": {
        "id": "ZLdK1cwMsey_",
        "colab_type": "text"
      },
      "cell_type": "markdown",
      "source": [
        "# 숫자형은 어떻게 만들고 사용할까?"
      ]
    },
    {
      "metadata": {
        "id": "EGVk4QJHse1i",
        "colab_type": "text"
      },
      "cell_type": "markdown",
      "source": [
        "## 정수형\n",
        "\n",
        "정수형(Interger)이란 말 그대로 정수를 뜻하는 자료형을 말한다. 아래는 대입하는 예이다.\n",
        "\n",
        "---\n",
        "\n",
        "a = 100\n",
        "\n",
        "b = -100\n",
        "\n",
        "c = 0\n",
        "\n",
        "---"
      ]
    },
    {
      "metadata": {
        "id": "5ZUvSWBdse35",
        "colab_type": "text"
      },
      "cell_type": "markdown",
      "source": [
        "## 실수형\n",
        "\n",
        "실수형(Floating-point)은 소수점이 포함된 숫자를 말한다. 아래는 대입하는 예이다.\n",
        "\n",
        "---\n",
        "\n",
        "a = 1.002\n",
        "\n",
        "b = -10.5001\n",
        "\n",
        "---\n",
        "\n",
        "c = 5.24E10\n",
        "\n",
        "d = 9.16e-10\n",
        "\n",
        "---\n",
        "\n",
        "두 번째 예는 \"컴퓨터식 지수 표현 방식\"이다. e나 E 둘 중 어떤 것을 사용해도 무방하다.\n",
        "\n",
        "여기서 5.24E10은 5.24 * 10의 10승, 9.16e-10은 9.16 * 10의 -10승을 뜻한다."
      ]
    },
    {
      "metadata": {
        "id": "-gBh6_X3se6e",
        "colab_type": "text"
      },
      "cell_type": "markdown",
      "source": [
        "## 8진수와 16진수\n",
        "\n",
        "8진수(Octal)를 만들기 위해서는 0o 또는 0O로 시작하면 된다. (숫자 0 + 알파벳 소문자 o / 대문자 O)\n",
        "\n",
        "a = 0o177\n",
        "\n",
        "16진수(Hexadecimal)를 만들기 위해서는 0x로 시작하면 된다.\n",
        "\n",
        "b = 0x8ff\n",
        "\n",
        "c = 0xABC"
      ]
    },
    {
      "metadata": {
        "id": "R2EJmSXqse9H",
        "colab_type": "text"
      },
      "cell_type": "markdown",
      "source": [
        "# 숫자형을 활용하기 위한 연산자"
      ]
    },
    {
      "metadata": {
        "id": "BkTyvNznse_l",
        "colab_type": "text"
      },
      "cell_type": "markdown",
      "source": [
        "## 사칙연산\n",
        "\n",
        "계산기와 같다."
      ]
    },
    {
      "metadata": {
        "id": "VOmxQNkHsfB-",
        "colab_type": "code",
        "colab": {
          "base_uri": "https://localhost:8080/",
          "height": 71
        },
        "outputId": "c8e01b0b-c151-410d-e27a-12fce0e6a16a"
      },
      "cell_type": "code",
      "source": [
        "a = 3\n",
        "b = 4\n",
        "\n",
        "print(a + b)\n",
        "print(a * b)\n",
        "print(a / b)"
      ],
      "execution_count": 3,
      "outputs": [
        {
          "output_type": "stream",
          "text": [
            "7\n",
            "12\n",
            "0.75\n"
          ],
          "name": "stdout"
        }
      ]
    },
    {
      "metadata": {
        "id": "105ITYchsfEb",
        "colab_type": "text"
      },
      "cell_type": "markdown",
      "source": [
        "## x의 y제곱을 나타내는 ** 연산자"
      ]
    },
    {
      "metadata": {
        "id": "P_YfFKkFsfGz",
        "colab_type": "code",
        "colab": {
          "base_uri": "https://localhost:8080/",
          "height": 35
        },
        "outputId": "34dde8df-3a73-4cb1-be47-cd9edba2c155"
      },
      "cell_type": "code",
      "source": [
        "a = 2\n",
        "b = 4\n",
        "\n",
        "print(a ** b)"
      ],
      "execution_count": 4,
      "outputs": [
        {
          "output_type": "stream",
          "text": [
            "16\n"
          ],
          "name": "stdout"
        }
      ]
    },
    {
      "metadata": {
        "id": "1b5mEyO3sfJK",
        "colab_type": "text"
      },
      "cell_type": "markdown",
      "source": [
        "## 나눗셈 후 나머지를 반환하는 % 연산자\n",
        "\n",
        "7을 3으로 나누면 몫이 2가 되고 나머지는 1이 나올 것이다. 테스트 해보자."
      ]
    },
    {
      "metadata": {
        "id": "RilKWGkwsfL0",
        "colab_type": "code",
        "colab": {
          "base_uri": "https://localhost:8080/",
          "height": 35
        },
        "outputId": "1292058e-97bd-49bb-e0f9-895d1d08fb77"
      },
      "cell_type": "code",
      "source": [
        "a = 7\n",
        "b = 3\n",
        "\n",
        "print(a % b)"
      ],
      "execution_count": 5,
      "outputs": [
        {
          "output_type": "stream",
          "text": [
            "1\n"
          ],
          "name": "stdout"
        }
      ]
    },
    {
      "metadata": {
        "id": "Oa9w_GsfsfOF",
        "colab_type": "text"
      },
      "cell_type": "markdown",
      "source": [
        "## 나눗셈 후 몫을 반환하는 // 연산자"
      ]
    },
    {
      "metadata": {
        "id": "BsYsBdGo0iGW",
        "colab_type": "code",
        "colab": {
          "base_uri": "https://localhost:8080/",
          "height": 89
        },
        "outputId": "cf5c1973-077c-4ad1-bbb7-4650b63c974d"
      },
      "cell_type": "code",
      "source": [
        "a = 7\n",
        "b = 4\n",
        "\n",
        "print(a / b)\n",
        "print(a // b)\n",
        "\n",
        "print(b / a)\n",
        "print(b // a)"
      ],
      "execution_count": 7,
      "outputs": [
        {
          "output_type": "stream",
          "text": [
            "1.75\n",
            "1\n",
            "0.5714285714285714\n",
            "0\n"
          ],
          "name": "stdout"
        }
      ]
    },
    {
      "metadata": {
        "id": "98vWH2xr0iJG",
        "colab_type": "text"
      },
      "cell_type": "markdown",
      "source": [
        "# 연습문제"
      ]
    },
    {
      "metadata": {
        "id": "P2c-6FqC0iLi",
        "colab_type": "text"
      },
      "cell_type": "markdown",
      "source": [
        "## Q1. 점수 평균\n",
        "\n",
        "국어 80\n",
        "\n",
        "영어 75\n",
        "\n",
        "수학 55\n",
        "\n",
        "이 3 과목의 평균을 구하라."
      ]
    },
    {
      "metadata": {
        "id": "HBOy-Nzg0iNy",
        "colab_type": "code",
        "colab": {}
      },
      "cell_type": "code",
      "source": [
        ""
      ],
      "execution_count": 0,
      "outputs": []
    },
    {
      "metadata": {
        "id": "kkiaPvpn0iQc",
        "colab_type": "text"
      },
      "cell_type": "markdown",
      "source": [
        "## Q2. 자연수 홀짝\n",
        "\n",
        "주어진 자연수가 홀수인지 짝수인지 판별할 수 있는 방법에 대해 말하라."
      ]
    },
    {
      "metadata": {
        "id": "1qaXOrte0iS8",
        "colab_type": "code",
        "colab": {}
      },
      "cell_type": "code",
      "source": [
        ""
      ],
      "execution_count": 0,
      "outputs": []
    }
  ]
}