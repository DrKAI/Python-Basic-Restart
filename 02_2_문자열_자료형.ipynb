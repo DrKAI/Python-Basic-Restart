{
  "nbformat": 4,
  "nbformat_minor": 0,
  "metadata": {
    "colab": {
      "name": "02-2 문자열 자료형.ipynb",
      "version": "0.3.2",
      "provenance": [],
      "collapsed_sections": [],
      "include_colab_link": true
    },
    "kernelspec": {
      "name": "python3",
      "display_name": "Python 3"
    }
  },
  "cells": [
    {
      "cell_type": "markdown",
      "metadata": {
        "id": "view-in-github",
        "colab_type": "text"
      },
      "source": [
        "<a href=\"https://colab.research.google.com/github/DrKAI/Python-Basic-Restart/blob/master/02_2_%EB%AC%B8%EC%9E%90%EC%97%B4_%EC%9E%90%EB%A3%8C%ED%98%95.ipynb\" target=\"_parent\"><img src=\"https://colab.research.google.com/assets/colab-badge.svg\" alt=\"Open In Colab\"/></a>"
      ]
    },
    {
      "metadata": {
        "id": "NG6K4sCw1-f5",
        "colab_type": "text"
      },
      "cell_type": "markdown",
      "source": [
        "# 문자열이란?\n",
        "\n",
        "문자열(String)이란 문자, 단어 등으로 구성된 문자들의 집합을 의미한다.\n",
        "\n",
        "---\n",
        "\n",
        "\"Life is too short, You need Python\"\n",
        "\n",
        "\"a\"\n",
        "\n",
        "\"123\"\n",
        "\n",
        "---\n",
        "\n",
        "123은 숫자인데 왜 문자열이냐? 의문이 들 것이다. 따옴표에 둘러싸여 있으면 모두 문자열이라 보면 된다."
      ]
    },
    {
      "metadata": {
        "id": "caXN9Pre38gw",
        "colab_type": "text"
      },
      "cell_type": "markdown",
      "source": [
        ""
      ]
    },
    {
      "metadata": {
        "id": "p6Fy3EBN2AxN",
        "colab_type": "text"
      },
      "cell_type": "markdown",
      "source": [
        "# 문자열은 어떻게 만들고 사용할까?\n",
        "\n",
        "문자열 만드는 방법은 큰 따옴표 외에도 3가지가 더 있다. 총 4가지이다. "
      ]
    },
    {
      "metadata": {
        "id": "z7yPBHwp2Az4",
        "colab_type": "text"
      },
      "cell_type": "markdown",
      "source": [
        "### 1. 큰 따옴표로 양 쪽 둘러싸기"
      ]
    },
    {
      "metadata": {
        "id": "_S8u0mfX2A2V",
        "colab_type": "code",
        "outputId": "60d2e367-289c-4b66-a493-015e018fab5e",
        "colab": {
          "base_uri": "https://localhost:8080/",
          "height": 35
        }
      },
      "cell_type": "code",
      "source": [
        "\"Hell Chosun\""
      ],
      "execution_count": 0,
      "outputs": [
        {
          "output_type": "execute_result",
          "data": {
            "text/plain": [
              "'Hell Chosun'"
            ]
          },
          "metadata": {
            "tags": []
          },
          "execution_count": 1
        }
      ]
    },
    {
      "metadata": {
        "id": "5TWg3uXT2A4-",
        "colab_type": "text"
      },
      "cell_type": "markdown",
      "source": [
        "### 2. 작은 따옴표로 양 쪽 둘러싸기"
      ]
    },
    {
      "metadata": {
        "id": "MnEil5yc2A7g",
        "colab_type": "code",
        "outputId": "8cd36d6a-1222-4edb-a1e8-27c7641158d3",
        "colab": {
          "base_uri": "https://localhost:8080/",
          "height": 35
        }
      },
      "cell_type": "code",
      "source": [
        "'C and Java is Suck'"
      ],
      "execution_count": 0,
      "outputs": [
        {
          "output_type": "execute_result",
          "data": {
            "text/plain": [
              "'C and Java is Suck'"
            ]
          },
          "metadata": {
            "tags": []
          },
          "execution_count": 2
        }
      ]
    },
    {
      "metadata": {
        "id": "TFhHKU5d2A-L",
        "colab_type": "text"
      },
      "cell_type": "markdown",
      "source": [
        "### 3. 큰 따옴표 3개를 연속으로 써서 양 쪽 둘러싸기"
      ]
    },
    {
      "metadata": {
        "id": "Ujeg9NXC2BAr",
        "colab_type": "code",
        "colab": {}
      },
      "cell_type": "code",
      "source": [
        "\"\"\"Life is short\"\"\""
      ],
      "execution_count": 0,
      "outputs": []
    },
    {
      "metadata": {
        "id": "OAhu79a42BDQ",
        "colab_type": "text"
      },
      "cell_type": "markdown",
      "source": [
        "### 4. 작은 따옴표 3개를 연속으로 써서 양 쪽 둘러싸기"
      ]
    },
    {
      "metadata": {
        "id": "SsBboBzQ2BF6",
        "colab_type": "code",
        "colab": {}
      },
      "cell_type": "code",
      "source": [
        "'''You do not need Python'''"
      ],
      "execution_count": 0,
      "outputs": []
    },
    {
      "metadata": {
        "id": "iuxBXU5t2BIl",
        "colab_type": "text"
      },
      "cell_type": "markdown",
      "source": [
        "## 문자열 안에 작은 따옴표나 큰 따옴표를 포함시키고 싶을 때\n",
        "\n",
        "단순함이 모토인 파이썬에서 왜 문자열 생성 방법을 4가지나 두었을까? 바로 이 때문이다."
      ]
    },
    {
      "metadata": {
        "id": "IjrJrcxf2BLO",
        "colab_type": "text"
      },
      "cell_type": "markdown",
      "source": [
        "### 1. 문자열에 작은 따옴표(') 포함시키기\n",
        "\n",
        "Python's favorite food is perl\n",
        "\n",
        "위 문자열을 food라는 변수에 저장하고 싶다 가정하자. 여기에는 작은 따옴표가 포함되어 있다.\n",
        "\n",
        "이럴 때 큰 따옴표로 둘러싸면 작은 따옴표는 문자열을 나타내기 위한 기호로 인식되지 않는다."
      ]
    },
    {
      "metadata": {
        "id": "xMnxbYjf2BNt",
        "colab_type": "code",
        "outputId": "406661c2-a34d-4438-d017-2a016eb096c2",
        "colab": {
          "base_uri": "https://localhost:8080/",
          "height": 35
        }
      },
      "cell_type": "code",
      "source": [
        "food = \"Python's favorite food is perl\"\n",
        "\n",
        "print(food)"
      ],
      "execution_count": 0,
      "outputs": [
        {
          "output_type": "stream",
          "text": [
            "Python's favorite food is perl\n"
          ],
          "name": "stdout"
        }
      ]
    },
    {
      "metadata": {
        "id": "P_V2GtXG6vdh",
        "colab_type": "code",
        "outputId": "e34a3665-a4ca-4546-fc8f-a86217a1a9d8",
        "colab": {
          "base_uri": "https://localhost:8080/",
          "height": 136
        }
      },
      "cell_type": "code",
      "source": [
        "food = 'Python's favorite food is perl'\n",
        "\n",
        "print(food)"
      ],
      "execution_count": 0,
      "outputs": [
        {
          "output_type": "error",
          "ename": "SyntaxError",
          "evalue": "ignored",
          "traceback": [
            "\u001b[0;36m  File \u001b[0;32m\"<ipython-input-4-befc1fc88577>\"\u001b[0;36m, line \u001b[0;32m1\u001b[0m\n\u001b[0;31m    food = 'Python's favorite food is perl'\u001b[0m\n\u001b[0m                   ^\u001b[0m\n\u001b[0;31mSyntaxError\u001b[0m\u001b[0;31m:\u001b[0m invalid syntax\n"
          ]
        }
      ]
    },
    {
      "metadata": {
        "id": "IMb5oh3y2BQQ",
        "colab_type": "text"
      },
      "cell_type": "markdown",
      "source": [
        "### 2. 문자열에 큰 따옴표(\") 포함시키기\n",
        "\n",
        "\"Python is not very easy.\" he says.\n",
        "\n",
        "반대로 큰 따옴표가 포함된 문자열은 작은 따옴표로 둘러싸면 된다."
      ]
    },
    {
      "metadata": {
        "id": "cNFpAFbw6rW9",
        "colab_type": "code",
        "outputId": "217927ad-2158-4814-cfbd-4509c1e2ce80",
        "colab": {
          "base_uri": "https://localhost:8080/",
          "height": 35
        }
      },
      "cell_type": "code",
      "source": [
        "say = '\"Python is not very easy.\" he says.'\n",
        "\n",
        "print(say)"
      ],
      "execution_count": 0,
      "outputs": [
        {
          "output_type": "stream",
          "text": [
            "\"Python is not very easy.\" he says.\n"
          ],
          "name": "stdout"
        }
      ]
    },
    {
      "metadata": {
        "id": "XuPBh05p6rZv",
        "colab_type": "code",
        "outputId": "43b04b38-bb8d-491d-aadb-9d03ae8d19ed",
        "colab": {
          "base_uri": "https://localhost:8080/",
          "height": 136
        }
      },
      "cell_type": "code",
      "source": [
        "say = \"\"Python is not very easy.\" he says.\"\n",
        "\n",
        "print(say)"
      ],
      "execution_count": 0,
      "outputs": [
        {
          "output_type": "error",
          "ename": "SyntaxError",
          "evalue": "ignored",
          "traceback": [
            "\u001b[0;36m  File \u001b[0;32m\"<ipython-input-7-4e9802e09bb9>\"\u001b[0;36m, line \u001b[0;32m1\u001b[0m\n\u001b[0;31m    say = \"\"Python is not very easy.\" he says.\"\u001b[0m\n\u001b[0m                 ^\u001b[0m\n\u001b[0;31mSyntaxError\u001b[0m\u001b[0;31m:\u001b[0m invalid syntax\n"
          ]
        }
      ]
    },
    {
      "metadata": {
        "id": "4_hoHll76rcO",
        "colab_type": "text"
      },
      "cell_type": "markdown",
      "source": [
        "### 3. 백슬래시(\\\\)를 이용해서 작은 따옴표와 큰 따옴표를 문자열에 포함시키기"
      ]
    },
    {
      "metadata": {
        "id": "yH2Oe85o6reo",
        "colab_type": "text"
      },
      "cell_type": "markdown",
      "source": [
        "백슬래시(\\\\)를 작은 따옴표나 큰 따옴표 앞에 삽입하면 백슬래시 뒤의 작은 따옴표, 큰 따옴표는 문자열을 둘러싸는 기호의 의미가 아니라 문자 ', \" 그 자체를 뜻하게 된다."
      ]
    },
    {
      "metadata": {
        "id": "VEvzAwSt6rhO",
        "colab_type": "code",
        "outputId": "892cdac9-0aba-451b-9e8a-38287b60483a",
        "colab": {
          "base_uri": "https://localhost:8080/",
          "height": 53
        }
      },
      "cell_type": "code",
      "source": [
        "food = 'Python\\'s favorite food is perl'\n",
        "say = \"\\\"Python is not very easy.\\\" he says.\"\n",
        "\n",
        "print(food)\n",
        "print(say)"
      ],
      "execution_count": 0,
      "outputs": [
        {
          "output_type": "stream",
          "text": [
            "Python's favorite food is perl\n",
            "\"Python is not very easy.\" he says.\n"
          ],
          "name": "stdout"
        }
      ]
    },
    {
      "metadata": {
        "id": "9EfdR24F6rj4",
        "colab_type": "text"
      },
      "cell_type": "markdown",
      "source": [
        "## 여러 줄인 문자열을 변수에 대입하고 싶을 때\n",
        "\n",
        "문자열이 항상 한 줄만 있는 것은 아니다.\n",
        "\n",
        "---\n",
        "\n",
        "Life is too short\n",
        "\n",
        "You need Python\n",
        "\n",
        "---\n",
        "\n",
        "이런 경우 어떻게 처리해야 하나?"
      ]
    },
    {
      "metadata": {
        "id": "6MvSp5Hb6rmR",
        "colab_type": "text"
      },
      "cell_type": "markdown",
      "source": [
        "### 1. 줄을 바꾸기 위한 이스케이프 코드(\\n) 삽입하기\n",
        "\n",
        "읽기 불편하고 줄이 길어지는 단점이 있는 방식이다."
      ]
    },
    {
      "metadata": {
        "id": "xBY1bO4j6rou",
        "colab_type": "code",
        "outputId": "24f1128f-349f-4721-eaad-67929290fb25",
        "colab": {
          "base_uri": "https://localhost:8080/",
          "height": 53
        }
      },
      "cell_type": "code",
      "source": [
        "multiline = \"Life is too short\\nYou need Python\"\n",
        "\n",
        "print(multiline)"
      ],
      "execution_count": 0,
      "outputs": [
        {
          "output_type": "stream",
          "text": [
            "Life is too short\n",
            "You need Python\n"
          ],
          "name": "stdout"
        }
      ]
    },
    {
      "metadata": {
        "id": "F8Q4Bzom2BSb",
        "colab_type": "text"
      },
      "cell_type": "markdown",
      "source": [
        "### 2. 연속된 작은 따옴표 3개(''') or 큰 따옴표 3개(\"\"\") 이용"
      ]
    },
    {
      "metadata": {
        "id": "y1Yu2ZeiMgR_",
        "colab_type": "code",
        "outputId": "a0c09b00-9640-4438-90d4-e3a2a2a39f8f",
        "colab": {
          "base_uri": "https://localhost:8080/",
          "height": 89
        }
      },
      "cell_type": "code",
      "source": [
        "multiline = '''\n",
        "Life is too short\n",
        "You need Python\n",
        "'''\n",
        "\n",
        "print(multiline)"
      ],
      "execution_count": 0,
      "outputs": [
        {
          "output_type": "stream",
          "text": [
            "\n",
            "Life is too short\n",
            "You need Python\n",
            "\n"
          ],
          "name": "stdout"
        }
      ]
    },
    {
      "metadata": {
        "id": "xsURVCpiMgUe",
        "colab_type": "code",
        "outputId": "d66a61cb-a613-4111-9e87-c2a3af2da6c3",
        "colab": {
          "base_uri": "https://localhost:8080/",
          "height": 89
        }
      },
      "cell_type": "code",
      "source": [
        "multiline = \"\"\"\n",
        "Life is too short\n",
        "You need Python\n",
        "\"\"\"\n",
        "\n",
        "print(multiline)"
      ],
      "execution_count": 0,
      "outputs": [
        {
          "output_type": "stream",
          "text": [
            "\n",
            "Life is too short\n",
            "You need Python\n",
            "\n"
          ],
          "name": "stdout"
        }
      ]
    },
    {
      "metadata": {
        "id": "w7eklJ41MgXC",
        "colab_type": "text"
      },
      "cell_type": "markdown",
      "source": [
        "# 이스케이프 코드란?\n",
        "\n",
        "프로그래밍 할 때 사용할 수 있도록 미리 정의해 둔 문자 조합이다. 자주 쓰는 건 강조를 해놓았다.\n",
        "\n",
        "---\n",
        "\n",
        "**\\n 개행**\n",
        "\n",
        "**\\t 수평 탭**\n",
        "\n",
        "**\\\\\\ 문자 \"\\\\\"**\n",
        "\n",
        "**\\' 단일 인용부호 '**\n",
        "\n",
        "**\\\" 이중 인용부호 \"**\n",
        "\n",
        "\\r 캐리지 리턴\n",
        "\n",
        "\\f 폼 피드\n",
        "\n",
        "\\a 벨 소리\n",
        "\n",
        "\\b 백 스페이스\n",
        "\n",
        "\\000 널 문자\n",
        "\n",
        "---"
      ]
    },
    {
      "metadata": {
        "id": "zaLgb2UnMgZh",
        "colab_type": "text"
      },
      "cell_type": "markdown",
      "source": [
        "# 문자열 연산하기\n",
        "\n",
        "파이썬에서는 문자열을 더하거나 곱할 수 있다."
      ]
    },
    {
      "metadata": {
        "id": "LyoQQp1aMgcB",
        "colab_type": "text"
      },
      "cell_type": "markdown",
      "source": [
        "## 문자열 더해서 연결하기 (Concatenation)"
      ]
    },
    {
      "metadata": {
        "id": "qCu8uUhiMgeb",
        "colab_type": "code",
        "outputId": "fc57c51c-51a2-4909-dc9a-95d4a23996be",
        "colab": {
          "base_uri": "https://localhost:8080/",
          "height": 35
        }
      },
      "cell_type": "code",
      "source": [
        "head = \"Python\"\n",
        "tail = \" is not fun\"\n",
        "\n",
        "print(head + tail)"
      ],
      "execution_count": 0,
      "outputs": [
        {
          "output_type": "stream",
          "text": [
            "Python is not fun\n"
          ],
          "name": "stdout"
        }
      ]
    },
    {
      "metadata": {
        "id": "MESdIuaGMgg1",
        "colab_type": "text"
      },
      "cell_type": "markdown",
      "source": [
        "## 문자열 곱하기"
      ]
    },
    {
      "metadata": {
        "id": "WSZgawISMgjQ",
        "colab_type": "code",
        "outputId": "6d6e4682-2d6b-42f4-9aca-3a31437c0e29",
        "colab": {
          "base_uri": "https://localhost:8080/",
          "height": 35
        }
      },
      "cell_type": "code",
      "source": [
        "a = \"Python \"\n",
        "\n",
        "print(a * 5)"
      ],
      "execution_count": 0,
      "outputs": [
        {
          "output_type": "stream",
          "text": [
            "Python Python Python Python Python \n"
          ],
          "name": "stdout"
        }
      ]
    },
    {
      "metadata": {
        "id": "91v4GX_5QifY",
        "colab_type": "text"
      },
      "cell_type": "markdown",
      "source": [
        "## 문자열 곱하기 응용"
      ]
    },
    {
      "metadata": {
        "id": "8A2u1TPBQkhY",
        "colab_type": "code",
        "outputId": "1005606e-2dcc-4397-f948-e287048b0297",
        "colab": {
          "base_uri": "https://localhost:8080/",
          "height": 71
        }
      },
      "cell_type": "code",
      "source": [
        "# multistring.py\n",
        "\n",
        "print(\"=\"*30)\n",
        "print(\"My Program\")\n",
        "print(\"=\"*30)"
      ],
      "execution_count": 0,
      "outputs": [
        {
          "output_type": "stream",
          "text": [
            "==============================\n",
            "My Program\n",
            "==============================\n"
          ],
          "name": "stdout"
        }
      ]
    },
    {
      "metadata": {
        "id": "uHdi3c1UQkkE",
        "colab_type": "text"
      },
      "cell_type": "markdown",
      "source": [
        "## 문자열 길이 구하기\n",
        "\n",
        "len 함수를 이용하면 된다. print 함수처럼 파이썬 기본 내장 함수이다."
      ]
    },
    {
      "metadata": {
        "id": "Ah6oUMlOQkmj",
        "colab_type": "code",
        "outputId": "662cc23b-0585-4d25-8bfb-59dee2eec89a",
        "colab": {
          "base_uri": "https://localhost:8080/",
          "height": 35
        }
      },
      "cell_type": "code",
      "source": [
        "a = \"Life is too short\"\n",
        "\n",
        "print(len(a))"
      ],
      "execution_count": 0,
      "outputs": [
        {
          "output_type": "stream",
          "text": [
            "17\n"
          ],
          "name": "stdout"
        }
      ]
    },
    {
      "metadata": {
        "id": "CE4JVgr6QkpF",
        "colab_type": "text"
      },
      "cell_type": "markdown",
      "source": [
        "# 문자열 인덱싱과 슬라이싱\n",
        "\n",
        "인덱싱(Indexing)이란 무엇인가를 \"가리킨다\"는 의미고, 슬라이싱(Slicing)은 무엇인가를 \"잘라낸다\"는 의미이다."
      ]
    },
    {
      "metadata": {
        "id": "AkJK0fcuQkrj",
        "colab_type": "text"
      },
      "cell_type": "markdown",
      "source": [
        "## 문자열 인덱싱이란?"
      ]
    },
    {
      "metadata": {
        "id": "0LhLeaIQQkt8",
        "colab_type": "code",
        "outputId": "6e138b23-1d4f-4eb2-94a3-8bb7bff216dc",
        "colab": {
          "base_uri": "https://localhost:8080/",
          "height": 35
        }
      },
      "cell_type": "code",
      "source": [
        "a = \"Life is too short, You need Python\"\n",
        "\n",
        "print(a[3])"
      ],
      "execution_count": 0,
      "outputs": [
        {
          "output_type": "stream",
          "text": [
            "e\n"
          ],
          "name": "stdout"
        }
      ]
    },
    {
      "metadata": {
        "id": "IEa-PZ6PQkwj",
        "colab_type": "text"
      },
      "cell_type": "markdown",
      "source": [
        "a[3]이 뜻하는 것은 a라는 문자열의 네 번째 문자인 e를 말한다. 왜 a[3]이 네 번째 문자인지 의아할 수 있다.\n",
        "\n",
        "**\"파이썬은 0부터 숫자를 센다\"**\n",
        "\n",
        "고로, a[0] = L, a[1] = i, a[2] = f, a[3] = e, ...,\n",
        "\n",
        "이렇게 된다."
      ]
    },
    {
      "metadata": {
        "id": "STEI69qrQkzR",
        "colab_type": "text"
      },
      "cell_type": "markdown",
      "source": [
        "## 문자열 인덱싱 활용하기"
      ]
    },
    {
      "metadata": {
        "id": "o9TxLtPoURBN",
        "colab_type": "code",
        "outputId": "2d9febb0-d11a-4539-99b3-3aee20b2c9c4",
        "colab": {
          "base_uri": "https://localhost:8080/",
          "height": 71
        }
      },
      "cell_type": "code",
      "source": [
        "a = \"Life is too short, You need Python\"\n",
        "\n",
        "print(a[0])\n",
        "\n",
        "print(a[12])\n",
        "\n",
        "print(a[-1])"
      ],
      "execution_count": 0,
      "outputs": [
        {
          "output_type": "stream",
          "text": [
            "L\n",
            "s\n",
            "n\n"
          ],
          "name": "stdout"
        }
      ]
    },
    {
      "metadata": {
        "id": "YBWDhKhDURD8",
        "colab_type": "text"
      },
      "cell_type": "markdown",
      "source": [
        "a[-1]은 뭘까? 문자열을 뒤에서부터 읽기 위해서 마이너스(-) 기호를 붙이는 것이다.\n",
        "\n",
        "즉, a[-1]은 뒤에서부터 세어 첫 번째가 되는 문자를 뜻한다.\n",
        "\n",
        "어라? a[-0]이 뒤에서 첫 번째여야지 않아? 의문을 가질 수 있다. 하지만 0과 -0은 똑같지 않나. 그렇기에 a[-1]로 표기하는 것이다."
      ]
    },
    {
      "metadata": {
        "id": "YNKMMWRoURGb",
        "colab_type": "code",
        "outputId": "0cfb1666-b51a-4699-cd79-dfed17d832bb",
        "colab": {
          "base_uri": "https://localhost:8080/",
          "height": 71
        }
      },
      "cell_type": "code",
      "source": [
        "a = \"Life is too short, You need Python\"\n",
        "\n",
        "print(a[-0])\n",
        "\n",
        "print(a[-2])\n",
        "\n",
        "print(a[-5])"
      ],
      "execution_count": 0,
      "outputs": [
        {
          "output_type": "stream",
          "text": [
            "L\n",
            "o\n",
            "y\n"
          ],
          "name": "stdout"
        }
      ]
    },
    {
      "metadata": {
        "id": "tQ6mfLQKURI0",
        "colab_type": "text"
      },
      "cell_type": "markdown",
      "source": [
        "## 문자열 슬라이싱이란?\n",
        "\n",
        "문자열에서 문자 하나만 뽑아내는 것이 아니라, 단어를 뽑아낼 방법은 없을까?"
      ]
    },
    {
      "metadata": {
        "id": "lxAXCkL1URLe",
        "colab_type": "code",
        "outputId": "6f7f0723-aeb6-4b82-f70c-6bcedc91d043",
        "colab": {
          "base_uri": "https://localhost:8080/",
          "height": 35
        }
      },
      "cell_type": "code",
      "source": [
        "a = \"Life is too short, You need Python\"\n",
        "\n",
        "b = a[0]+a[1]+a[2]+a[3]\n",
        "\n",
        "print(b)"
      ],
      "execution_count": 0,
      "outputs": [
        {
          "output_type": "stream",
          "text": [
            "Life\n"
          ],
          "name": "stdout"
        }
      ]
    },
    {
      "metadata": {
        "id": "U_qUjGH4WXdD",
        "colab_type": "text"
      },
      "cell_type": "markdown",
      "source": [
        "위처럼 단순하게 접근할 수도 있지만, 파이썬에서는 더 좋은 방법을 제공한다. 슬라이싱 기법이다."
      ]
    },
    {
      "metadata": {
        "id": "-IvagcVzWXfs",
        "colab_type": "code",
        "outputId": "c232da72-938d-4cba-9dfd-62fc9bdbfe12",
        "colab": {
          "base_uri": "https://localhost:8080/",
          "height": 53
        }
      },
      "cell_type": "code",
      "source": [
        "a = \"Life is too short, You need Python\"\n",
        "\n",
        "print(a[0:4])\n",
        "\n",
        "print(a[0:3])"
      ],
      "execution_count": 0,
      "outputs": [
        {
          "output_type": "stream",
          "text": [
            "Life\n",
            "Lif\n"
          ],
          "name": "stdout"
        }
      ]
    },
    {
      "metadata": {
        "id": "OM9rgbzrWXio",
        "colab_type": "text"
      },
      "cell_type": "markdown",
      "source": [
        "**a[시작번호:끝번호]**\n",
        "\n",
        "**시작번호 <= a < 끝번호**"
      ]
    },
    {
      "metadata": {
        "id": "akBxwAUOWXk2",
        "colab_type": "text"
      },
      "cell_type": "markdown",
      "source": [
        "## 문자열을 슬라이싱하는 방법\n",
        "\n",
        "예를 더 살펴보자"
      ]
    },
    {
      "metadata": {
        "id": "mtnYxHCLWXm5",
        "colab_type": "code",
        "outputId": "358982f6-a60d-4fa0-acaa-3bb870b654e5",
        "colab": {
          "base_uri": "https://localhost:8080/",
          "height": 35
        }
      },
      "cell_type": "code",
      "source": [
        "a = \"Life is too short, You need Python\"\n",
        "\n",
        "print(a[0:5])"
      ],
      "execution_count": 0,
      "outputs": [
        {
          "output_type": "stream",
          "text": [
            "Life \n"
          ],
          "name": "stdout"
        }
      ]
    },
    {
      "metadata": {
        "id": "1W5Ihg92UROJ",
        "colab_type": "text"
      },
      "cell_type": "markdown",
      "source": [
        "공백문자 포함된 \"Life \"이다. \"Life\"와 \"Life \"는 완전히 다른 문자열이다."
      ]
    },
    {
      "metadata": {
        "id": "VvQNrjrwURQ_",
        "colab_type": "code",
        "outputId": "adf7a3fa-8c34-4d92-93e9-4b947d230f16",
        "colab": {
          "base_uri": "https://localhost:8080/",
          "height": 71
        }
      },
      "cell_type": "code",
      "source": [
        "a = \"Life is too short, You need Python\"\n",
        "\n",
        "print(a[0:2])\n",
        "\n",
        "print(a[5:7])\n",
        "\n",
        "print(a[12:17])"
      ],
      "execution_count": 0,
      "outputs": [
        {
          "output_type": "stream",
          "text": [
            "Li\n",
            "is\n",
            "short\n"
          ],
          "name": "stdout"
        }
      ]
    },
    {
      "metadata": {
        "id": "3gttSwxHXDoR",
        "colab_type": "text"
      },
      "cell_type": "markdown",
      "source": [
        "슬라이싱 할 때 시작 번호가 꼭 0일 필요는 없다."
      ]
    },
    {
      "metadata": {
        "id": "-Sk6bEaOURTk",
        "colab_type": "code",
        "outputId": "da2c48bc-d8bc-40f5-b8d8-963f2f49f4cc",
        "colab": {
          "base_uri": "https://localhost:8080/",
          "height": 35
        }
      },
      "cell_type": "code",
      "source": [
        "a = \"Life is too short, You need Python\"\n",
        "\n",
        "print(a[19:])"
      ],
      "execution_count": 0,
      "outputs": [
        {
          "output_type": "stream",
          "text": [
            "You need Python\n"
          ],
          "name": "stdout"
        }
      ]
    },
    {
      "metadata": {
        "id": "7xliCguDURWO",
        "colab_type": "text"
      },
      "cell_type": "markdown",
      "source": [
        "a[시작 번호:끝 번호]에서 끝 번호를 생략하면 시작 번호부터 그 문자열의 끝까지 뽑아낸다."
      ]
    },
    {
      "metadata": {
        "id": "Hb_b0k3VURZO",
        "colab_type": "code",
        "outputId": "9190ecf7-574b-43d9-f640-8452dd407f6e",
        "colab": {
          "base_uri": "https://localhost:8080/",
          "height": 35
        }
      },
      "cell_type": "code",
      "source": [
        "a = \"Life is too short, You need Python\"\n",
        "\n",
        "print(a[:17])"
      ],
      "execution_count": 0,
      "outputs": [
        {
          "output_type": "stream",
          "text": [
            "Life is too short\n"
          ],
          "name": "stdout"
        }
      ]
    },
    {
      "metadata": {
        "id": "MW3ZiFl8URbz",
        "colab_type": "text"
      },
      "cell_type": "markdown",
      "source": [
        "a[시작 번호:끝 번호]에서 시작 번호를 생략하면 문자열의 처음부터 끝 번호까지 뽑아낸다."
      ]
    },
    {
      "metadata": {
        "id": "eokg0uZ-UReZ",
        "colab_type": "code",
        "colab": {}
      },
      "cell_type": "code",
      "source": [
        "a = \"Life is too short, You need Python\"\n",
        "\n",
        "print(a[:])"
      ],
      "execution_count": 0,
      "outputs": []
    },
    {
      "metadata": {
        "id": "-hZIOejiURg3",
        "colab_type": "text"
      },
      "cell_type": "markdown",
      "source": [
        "a[시작 번호:끝 번호]에서 시작 번호, 끝 번호를 생략하면 문자열의 처음부터 끝까지 뽑아낸다."
      ]
    },
    {
      "metadata": {
        "id": "XhwpmLopURjG",
        "colab_type": "code",
        "outputId": "bcaa5fb6-314b-4554-c377-b093d9339c82",
        "colab": {
          "base_uri": "https://localhost:8080/",
          "height": 35
        }
      },
      "cell_type": "code",
      "source": [
        "a = \"Life is too short, You need Python\"\n",
        "\n",
        "print(a[19:-7])"
      ],
      "execution_count": 0,
      "outputs": [
        {
          "output_type": "stream",
          "text": [
            "You need\n"
          ],
          "name": "stdout"
        }
      ]
    },
    {
      "metadata": {
        "id": "rOR-t2KtZAn4",
        "colab_type": "text"
      },
      "cell_type": "markdown",
      "source": [
        "인덱싱과 마찬가지로 마이너스 기호 사용이 가능하다.\n",
        "\n",
        "위 예제에서 a[19:-7]이 뜻하는 것은 a[19]에서 a[-8]까지를 말한다. a[-7]은 포함하지 않는다!"
      ]
    },
    {
      "metadata": {
        "id": "ryLMy2kOZAq4",
        "colab_type": "text"
      },
      "cell_type": "markdown",
      "source": [
        "## 슬라이싱으로 문자열 나누기"
      ]
    },
    {
      "metadata": {
        "id": "InxugAycZAtd",
        "colab_type": "code",
        "outputId": "0bf67fc6-bd7f-417c-a89f-592db3342fb9",
        "colab": {
          "base_uri": "https://localhost:8080/",
          "height": 51
        }
      },
      "cell_type": "code",
      "source": [
        "a = \"19901230Lee\"\n",
        "\n",
        "birth = a[:8]\n",
        "name = a[8:]\n",
        "\n",
        "print(birth)\n",
        "print(name)"
      ],
      "execution_count": 0,
      "outputs": [
        {
          "output_type": "stream",
          "text": [
            "19901230\n",
            "Lee\n"
          ],
          "name": "stdout"
        }
      ]
    },
    {
      "metadata": {
        "id": "SO-LJqMHZAwL",
        "colab_type": "text"
      },
      "cell_type": "markdown",
      "source": [
        "a라는 문자열을 두 부분으로 나누는 기법이다. 연도, 월일, 이름 이렇게 세 부분으로 나누려면 어떻게 해야 할까?"
      ]
    },
    {
      "metadata": {
        "id": "3uU1g4C5ZAy9",
        "colab_type": "code",
        "outputId": "44b0dc5c-1f23-44ac-ca71-c9d8b54a07f6",
        "colab": {
          "base_uri": "https://localhost:8080/",
          "height": 68
        }
      },
      "cell_type": "code",
      "source": [
        "a = \"19901230Lee\"\n",
        "\n",
        "year = a[:4]\n",
        "day = a[4:8]\n",
        "name = a[8:]\n",
        "\n",
        "print(year)\n",
        "print(day)\n",
        "print(name)"
      ],
      "execution_count": 0,
      "outputs": [
        {
          "output_type": "stream",
          "text": [
            "1990\n",
            "1230\n",
            "Lee\n"
          ],
          "name": "stdout"
        }
      ]
    },
    {
      "metadata": {
        "id": "Li_jqK7DlSyF",
        "colab_type": "text"
      },
      "cell_type": "markdown",
      "source": [
        "# \"KimLeePark\"이라는 문자열을 \"LimLeePark\"으로 바꾸려면?\n",
        "\n",
        "제일 먼저 떠오르는 생각은 아래와 같을 것이다."
      ]
    },
    {
      "metadata": {
        "id": "QhJpzhq4m9WN",
        "colab_type": "code",
        "outputId": "bebbfd79-4c84-4e23-89ae-603e8385fab9",
        "colab": {
          "base_uri": "https://localhost:8080/",
          "height": 359
        }
      },
      "cell_type": "code",
      "source": [
        "a = \"KimLeePark\"\n",
        "\n",
        "print(a[0])\n",
        "\n",
        "a[0] = 'L'\n",
        "\n",
        "print(a[0])"
      ],
      "execution_count": 0,
      "outputs": [
        {
          "output_type": "stream",
          "text": [
            "K\n"
          ],
          "name": "stdout"
        },
        {
          "output_type": "error",
          "ename": "TypeError",
          "evalue": "ignored",
          "traceback": [
            "\u001b[0;31m---------------------------------------------------------------------------\u001b[0m",
            "\u001b[0;31mTypeError\u001b[0m                                 Traceback (most recent call last)",
            "\u001b[0;32m<ipython-input-7-a661892c3e25>\u001b[0m in \u001b[0;36m<module>\u001b[0;34m()\u001b[0m\n\u001b[1;32m      3\u001b[0m \u001b[0mprint\u001b[0m\u001b[0;34m(\u001b[0m\u001b[0ma\u001b[0m\u001b[0;34m[\u001b[0m\u001b[0;36m0\u001b[0m\u001b[0;34m]\u001b[0m\u001b[0;34m)\u001b[0m\u001b[0;34m\u001b[0m\u001b[0;34m\u001b[0m\u001b[0m\n\u001b[1;32m      4\u001b[0m \u001b[0;34m\u001b[0m\u001b[0m\n\u001b[0;32m----> 5\u001b[0;31m \u001b[0ma\u001b[0m\u001b[0;34m[\u001b[0m\u001b[0;36m0\u001b[0m\u001b[0;34m]\u001b[0m \u001b[0;34m=\u001b[0m \u001b[0;34m'L'\u001b[0m\u001b[0;34m\u001b[0m\u001b[0;34m\u001b[0m\u001b[0m\n\u001b[0m\u001b[1;32m      6\u001b[0m \u001b[0;34m\u001b[0m\u001b[0m\n\u001b[1;32m      7\u001b[0m \u001b[0mprint\u001b[0m\u001b[0;34m(\u001b[0m\u001b[0ma\u001b[0m\u001b[0;34m[\u001b[0m\u001b[0;36m0\u001b[0m\u001b[0;34m]\u001b[0m\u001b[0;34m)\u001b[0m\u001b[0;34m\u001b[0m\u001b[0;34m\u001b[0m\u001b[0m\n",
            "\u001b[0;31mTypeError\u001b[0m: 'str' object does not support item assignment"
          ]
        }
      ]
    },
    {
      "metadata": {
        "id": "pf6Q22SUnN6N",
        "colab_type": "text"
      },
      "cell_type": "markdown",
      "source": [
        "요컨대 a[0] 값이 K이니까 a[0]을 L로 바꾼다고 생각할 것이다. 그러나 당연히 에러가 발생한다.\n",
        "\n",
        "**문자열의 요소값은 바꿀 수 있는 값이 아니기 때문이다!**\n",
        "\n",
        "**문자열, 튜플 등의 자료형은 그 요소값을 변경할 수 없다. 그래서 immutable한 자료형이라고도 한다.**\n",
        "\n",
        "하지만, 슬라이싱 기법을 이용하면 원하는 문자열로 바꿀 수 있긴 하다. 아래의 코드를 보자."
      ]
    },
    {
      "metadata": {
        "id": "zpu0shuElS-F",
        "colab_type": "code",
        "outputId": "e844f7b8-4a8a-4fcf-fdb0-ac37407ba01e",
        "colab": {
          "base_uri": "https://localhost:8080/",
          "height": 68
        }
      },
      "cell_type": "code",
      "source": [
        "a = \"KimLeePark\"\n",
        "\n",
        "print(a[:1])\n",
        "print(a[1:])\n",
        "\n",
        "print(\"L\"+a[1:])"
      ],
      "execution_count": 0,
      "outputs": [
        {
          "output_type": "stream",
          "text": [
            "K\n",
            "imLeePark\n",
            "LimLeePark\n"
          ],
          "name": "stdout"
        }
      ]
    },
    {
      "metadata": {
        "id": "e2ZJgeMmlTSd",
        "colab_type": "text"
      },
      "cell_type": "markdown",
      "source": [
        "# 문자열 포매팅\n",
        "\n",
        "\"현재 온도는 18도입니다\"를 시간이 지나 \"현재 온도는 20도입니다\"로 바꾸고 싶을 때는?\n",
        "\n",
        "이렇게 문자열 내의 특정 값으로 바꿔야 할 때, 문자열 포매팅 기법을 써야 한다.\n",
        "\n",
        "쉽게 말해 문자열 내에 어떤 값을 삽입하는 방법이다."
      ]
    },
    {
      "metadata": {
        "id": "-BrexPHHlUEG",
        "colab_type": "text"
      },
      "cell_type": "markdown",
      "source": [
        "## 1. 숫자 바로 대입\n",
        "\n",
        "문자열 안에서 숫자를 넣고 싶은 자리에 %d라는 문자를 넣어주고, 삽입할 숫자는 % 문자 다음에 써넣었다.\n",
        "\n",
        "여기서 %d를 문자열 포맷 코드라 한다."
      ]
    },
    {
      "metadata": {
        "id": "v8SQO-m0lUAm",
        "colab_type": "code",
        "outputId": "a285df56-19ba-405c-fe10-d25dde08fe50",
        "colab": {
          "base_uri": "https://localhost:8080/",
          "height": 34
        }
      },
      "cell_type": "code",
      "source": [
        "a = \"Lee eat %d apples\" % 300\n",
        "\n",
        "print(a)"
      ],
      "execution_count": 0,
      "outputs": [
        {
          "output_type": "stream",
          "text": [
            "Lee eat 300 apples\n"
          ],
          "name": "stdout"
        }
      ]
    },
    {
      "metadata": {
        "id": "i-nZXBZblT9E",
        "colab_type": "text"
      },
      "cell_type": "markdown",
      "source": [
        "## 2. 문자열 바로 대입\n",
        "\n",
        "숫자 말고 문자열 대입도 가능하다. %s이다.\n",
        "\n",
        "**문자열 대입 시 앞에서 설명한 것처럼 반드시 큰 따옴표나 작은 따옴표를 사용해야 한다.**"
      ]
    },
    {
      "metadata": {
        "id": "nB9JPCNvlT5K",
        "colab_type": "code",
        "outputId": "eae6ab31-8adb-421e-d212-3e389ffc652d",
        "colab": {
          "base_uri": "https://localhost:8080/",
          "height": 34
        }
      },
      "cell_type": "code",
      "source": [
        "b = \"Lee eat %s melons\" % 'one million'\n",
        "\n",
        "print(b)"
      ],
      "execution_count": 0,
      "outputs": [
        {
          "output_type": "stream",
          "text": [
            "Lee eat one million melons\n"
          ],
          "name": "stdout"
        }
      ]
    },
    {
      "metadata": {
        "id": "R-RjsNkYlTO0",
        "colab_type": "text"
      },
      "cell_type": "markdown",
      "source": [
        "## 3. 숫자 값을 나타내는 변수로 대입"
      ]
    },
    {
      "metadata": {
        "id": "3_tCZdSmlTLO",
        "colab_type": "code",
        "outputId": "92b155fc-6cf1-4f73-b831-5ad380428786",
        "colab": {
          "base_uri": "https://localhost:8080/",
          "height": 51
        }
      },
      "cell_type": "code",
      "source": [
        "number = 100\n",
        "\n",
        "c = \"Lee eat %d apples.\" % number\n",
        "d = \"Lee eat %s apples.\" % number\n",
        "\n",
        "print(c)\n",
        "print(d)"
      ],
      "execution_count": 0,
      "outputs": [
        {
          "output_type": "stream",
          "text": [
            "Lee eat 100 apples.\n",
            "Lee eat 100 apples.\n"
          ],
          "name": "stdout"
        }
      ]
    },
    {
      "metadata": {
        "id": "ifDv4bx0lTHW",
        "colab_type": "text"
      },
      "cell_type": "markdown",
      "source": [
        "**%s 문자열 포맷 코드로도 가능하다. 다만 이 경우엔 숫자가 아니라 문자로서 인식을 할 것으로 추정된다.**"
      ]
    },
    {
      "metadata": {
        "id": "lwf4HpAjlPq0",
        "colab_type": "text"
      },
      "cell_type": "markdown",
      "source": [
        "## 4. 2개 이상의 값 넣기\n",
        "\n",
        "문자열 안에 1개가 아닌 여러 개의 값을 넣고 싶을 땐 어찌하나? 괄호와 콤마를 이용한다."
      ]
    },
    {
      "metadata": {
        "id": "5UpXOKQWujgz",
        "colab_type": "code",
        "outputId": "f04fb251-94c6-405b-b223-6b58220d324d",
        "colab": {
          "base_uri": "https://localhost:8080/",
          "height": 34
        }
      },
      "cell_type": "code",
      "source": [
        "number = 100\n",
        "year = \"nine\"\n",
        "\n",
        "a = \"I ate %d apples. so I was sick for %s years.\" % (number, year)\n",
        "print(a)"
      ],
      "execution_count": 0,
      "outputs": [
        {
          "output_type": "stream",
          "text": [
            "I ate 100 apples. so I was sick for nine years.\n"
          ],
          "name": "stdout"
        }
      ]
    },
    {
      "metadata": {
        "id": "4I6lAWfHujc3",
        "colab_type": "code",
        "outputId": "7c90f7c0-f355-4d19-d833-f92b22bb94b6",
        "colab": {
          "base_uri": "https://localhost:8080/",
          "height": 308
        }
      },
      "cell_type": "code",
      "source": [
        "# year 변수는 정수형이 아니다!\n",
        "number = 100\n",
        "year = \"nine\"\n",
        "\n",
        "a = \"I ate %s apples. so I was sick for %d years.\" % (number, year)\n",
        "print(a)"
      ],
      "execution_count": 0,
      "outputs": [
        {
          "output_type": "error",
          "ename": "TypeError",
          "evalue": "ignored",
          "traceback": [
            "\u001b[0;31m---------------------------------------------------------------------------\u001b[0m",
            "\u001b[0;31mTypeError\u001b[0m                                 Traceback (most recent call last)",
            "\u001b[0;32m<ipython-input-17-8081d07674d4>\u001b[0m in \u001b[0;36m<module>\u001b[0;34m()\u001b[0m\n\u001b[1;32m      2\u001b[0m \u001b[0myear\u001b[0m \u001b[0;34m=\u001b[0m \u001b[0;34m\"nine\"\u001b[0m\u001b[0;34m\u001b[0m\u001b[0;34m\u001b[0m\u001b[0m\n\u001b[1;32m      3\u001b[0m \u001b[0;34m\u001b[0m\u001b[0m\n\u001b[0;32m----> 4\u001b[0;31m \u001b[0ma\u001b[0m \u001b[0;34m=\u001b[0m \u001b[0;34m\"I ate %s apples. so I was sick for %d years.\"\u001b[0m \u001b[0;34m%\u001b[0m \u001b[0;34m(\u001b[0m\u001b[0mnumber\u001b[0m\u001b[0;34m,\u001b[0m \u001b[0myear\u001b[0m\u001b[0;34m)\u001b[0m\u001b[0;34m\u001b[0m\u001b[0;34m\u001b[0m\u001b[0m\n\u001b[0m\u001b[1;32m      5\u001b[0m \u001b[0mprint\u001b[0m\u001b[0;34m(\u001b[0m\u001b[0ma\u001b[0m\u001b[0;34m)\u001b[0m\u001b[0;34m\u001b[0m\u001b[0;34m\u001b[0m\u001b[0m\n",
            "\u001b[0;31mTypeError\u001b[0m: %d format: a number is required, not str"
          ]
        }
      ]
    },
    {
      "metadata": {
        "id": "deOrjc9ZxfhR",
        "colab_type": "code",
        "outputId": "f3994424-ea2a-4808-803e-a2b120127e70",
        "colab": {
          "base_uri": "https://localhost:8080/",
          "height": 34
        }
      },
      "cell_type": "code",
      "source": [
        "# number 변수는 문자열로 인식이 가능하다! 1, 0, 0 하나하나가 문자로 인식된다.\n",
        "\n",
        "number = 100\n",
        "year = \"nine\"\n",
        "\n",
        "a = \"I ate %s apples. so I was sick for %a years.\" % (number, year)\n",
        "print(a)"
      ],
      "execution_count": 0,
      "outputs": [
        {
          "output_type": "stream",
          "text": [
            "I ate 100 apples. so I was sick for 'nine' years.\n"
          ],
          "name": "stdout"
        }
      ]
    },
    {
      "metadata": {
        "id": "riXu2kGvxfY7",
        "colab_type": "text"
      },
      "cell_type": "markdown",
      "source": [
        "## 문자열 포맷 코드\n",
        "\n",
        "%s : 문자열\n",
        "\n",
        "%c : 문자 1개\n",
        "\n",
        "%d : 정수\n",
        "\n",
        "%f : 부동소수\n",
        "\n",
        "%o : 8진수\n",
        "\n",
        "%x : 16진수\n",
        "\n",
        "%% : Literal % (문자 % 그 자체)"
      ]
    },
    {
      "metadata": {
        "id": "P96L_UzNujZI",
        "colab_type": "code",
        "outputId": "b4189866-5310-4019-a3a8-118d2570e7e3",
        "colab": {
          "base_uri": "https://localhost:8080/",
          "height": 51
        }
      },
      "cell_type": "code",
      "source": [
        "a = \"I have %s apples\" % 3\n",
        "print(a)\n",
        "\n",
        "b = \"rate is %s\" % 3.2345\n",
        "print(b)"
      ],
      "execution_count": 0,
      "outputs": [
        {
          "output_type": "stream",
          "text": [
            "I have 3 apples\n",
            "rate is 3.2345\n"
          ],
          "name": "stdout"
        }
      ]
    },
    {
      "metadata": {
        "id": "nAczfKW6ujVA",
        "colab_type": "text"
      },
      "cell_type": "markdown",
      "source": [
        "%s를 사용하면 값 자체를 문자열로 바꾸기 때문에 %d나 %f의 고민에서 벗어날 수 있다.\n",
        "\n",
        "물론, %d와 %f는 각기 용도가 있기 때문에 존재한다!"
      ]
    },
    {
      "metadata": {
        "id": "HJoALCYgujQV",
        "colab_type": "text"
      },
      "cell_type": "markdown",
      "source": [
        "## 포매팅 연산자 %d와 %를 같이 쓸 때는 %%를 쓴다"
      ]
    },
    {
      "metadata": {
        "id": "djEtPz2XujMk",
        "colab_type": "code",
        "outputId": "b47248f3-9305-4358-ffa1-aebb97e6379c",
        "colab": {
          "base_uri": "https://localhost:8080/",
          "height": 258
        }
      },
      "cell_type": "code",
      "source": [
        "a = \"Error is %d%\" % 98\n",
        "print(a)"
      ],
      "execution_count": 0,
      "outputs": [
        {
          "output_type": "error",
          "ename": "TypeError",
          "evalue": "ignored",
          "traceback": [
            "\u001b[0;31m---------------------------------------------------------------------------\u001b[0m",
            "\u001b[0;31mTypeError\u001b[0m                                 Traceback (most recent call last)",
            "\u001b[0;32m<ipython-input-21-91b1489a928f>\u001b[0m in \u001b[0;36m<module>\u001b[0;34m()\u001b[0m\n\u001b[0;32m----> 1\u001b[0;31m \u001b[0ma\u001b[0m \u001b[0;34m=\u001b[0m \u001b[0;34m\"Error is %%\"\u001b[0m \u001b[0;34m%\u001b[0m \u001b[0;36m98\u001b[0m\u001b[0;34m\u001b[0m\u001b[0;34m\u001b[0m\u001b[0m\n\u001b[0m\u001b[1;32m      2\u001b[0m \u001b[0mprint\u001b[0m\u001b[0;34m(\u001b[0m\u001b[0ma\u001b[0m\u001b[0;34m)\u001b[0m\u001b[0;34m\u001b[0m\u001b[0;34m\u001b[0m\u001b[0m\n",
            "\u001b[0;31mTypeError\u001b[0m: not all arguments converted during string formatting"
          ]
        }
      ]
    },
    {
      "metadata": {
        "id": "eL1l88j4ujGh",
        "colab_type": "text"
      },
      "cell_type": "markdown",
      "source": [
        "문자열 포맷 코드 %d와 %가 같은 문자열 내에 존재하는 경우, %를 표현하고 싶다면 반드시 %%로 써야한다!\n",
        "\n",
        "**%d 뿐만 아니라 어떤 문자열 포맷 코드를 이용하더라도 %를 표현할 때는 %%로 쓰자!**"
      ]
    },
    {
      "metadata": {
        "id": "vVXW2L-d_rq5",
        "colab_type": "code",
        "outputId": "1140a381-83dd-4ea1-adc7-85511a3a2cc7",
        "colab": {
          "base_uri": "https://localhost:8080/",
          "height": 34
        }
      },
      "cell_type": "code",
      "source": [
        "a = \"Error is %d%%\" % 100\n",
        "print(a)"
      ],
      "execution_count": 0,
      "outputs": [
        {
          "output_type": "stream",
          "text": [
            "Error is 100%\n"
          ],
          "name": "stdout"
        }
      ]
    },
    {
      "metadata": {
        "id": "1A3zE9Bs_tnz",
        "colab_type": "text"
      },
      "cell_type": "markdown",
      "source": [
        "## 포맷 코드와 숫자 함께 사용하기"
      ]
    },
    {
      "metadata": {
        "id": "8c2A_hg1_tjh",
        "colab_type": "text"
      },
      "cell_type": "markdown",
      "source": [
        "### 1. 정렬과 공백"
      ]
    },
    {
      "metadata": {
        "id": "uYLNbLBf_tfK",
        "colab_type": "code",
        "outputId": "e6711ab8-5aab-4202-8d29-aaab145dea64",
        "colab": {
          "base_uri": "https://localhost:8080/",
          "height": 51
        }
      },
      "cell_type": "code",
      "source": [
        "a = \"%10s\" % \"hi\"\n",
        "print(a)\n",
        "\n",
        "b = \"%-10shello\" % \"hi\"\n",
        "print(b)"
      ],
      "execution_count": 0,
      "outputs": [
        {
          "output_type": "stream",
          "text": [
            "        hi\n",
            "hi        hello\n"
          ],
          "name": "stdout"
        }
      ]
    },
    {
      "metadata": {
        "id": "Dh9cxzF3_ta-",
        "colab_type": "text"
      },
      "cell_type": "markdown",
      "source": [
        "\"%10s\"의 의미는 전체 길이가 10개인 문자열 공간에서 hi를 오른쪽으로 정렬하고 그 앞의 나머지는 공백으로 남겨두라는 의미다.\n",
        "\n",
        "반대로, \"%-10s\"는 hi를 왼쪽으로 정렬하고 나머지는 공백으로 처리한 것이다. 그 뒤에 hello가 붙었고."
      ]
    },
    {
      "metadata": {
        "id": "TjbmrLyT_tWu",
        "colab_type": "text"
      },
      "cell_type": "markdown",
      "source": [
        "### 2. 소수점 표현하기"
      ]
    },
    {
      "metadata": {
        "id": "h1F2qfjr_tSQ",
        "colab_type": "code",
        "outputId": "9ade6bdb-149c-4a7c-ed6e-baf2f4598896",
        "colab": {
          "base_uri": "https://localhost:8080/",
          "height": 51
        }
      },
      "cell_type": "code",
      "source": [
        "a = \"%0.5f\" % 10.123456789\n",
        "print(a)\n",
        "\n",
        "b = \"%10.2f\" % 1.2345678\n",
        "print(b)"
      ],
      "execution_count": 0,
      "outputs": [
        {
          "output_type": "stream",
          "text": [
            "10.12346\n",
            "      1.23\n"
          ],
          "name": "stdout"
        }
      ]
    },
    {
      "metadata": {
        "id": "e8M2OZbgBAVb",
        "colab_type": "text"
      },
      "cell_type": "markdown",
      "source": [
        "a는 10.123456789를 소수점 5번째 자리까지 나타내고 싶은 경우에 사용한다.\n",
        "\n",
        "b는 1.2345678에서 소수점 2번째 자리와 전체 길이가 10인 문자열 공간에서 오른쪽으로 정렬하는 것을 보여준다."
      ]
    },
    {
      "metadata": {
        "id": "8pMAOy4aBARS",
        "colab_type": "text"
      },
      "cell_type": "markdown",
      "source": [
        "## format 함수를 이용한 포매팅"
      ]
    },
    {
      "metadata": {
        "id": "eqh7FZmuBAM_",
        "colab_type": "text"
      },
      "cell_type": "markdown",
      "source": [
        "### 1. 숫자 바로 대입"
      ]
    },
    {
      "metadata": {
        "id": "Tjkrl5weBAHe",
        "colab_type": "code",
        "outputId": "f90261c9-3a99-4e1e-97a8-c8831a022af7",
        "colab": {
          "base_uri": "https://localhost:8080/",
          "height": 34
        }
      },
      "cell_type": "code",
      "source": [
        "a = \"I eat {0} apples\".format(666)\n",
        "print(a)"
      ],
      "execution_count": 0,
      "outputs": [
        {
          "output_type": "stream",
          "text": [
            "I eat 666 apples\n"
          ],
          "name": "stdout"
        }
      ]
    },
    {
      "metadata": {
        "id": "VRAdzMk_BADX",
        "colab_type": "text"
      },
      "cell_type": "markdown",
      "source": [
        "### 2. 문자열 바로 대입"
      ]
    },
    {
      "metadata": {
        "id": "USI4Ds_vA__Q",
        "colab_type": "code",
        "outputId": "3e68dfef-d5b0-4f36-e88a-e2842aaa7444",
        "colab": {
          "base_uri": "https://localhost:8080/",
          "height": 34
        }
      },
      "cell_type": "code",
      "source": [
        "b = \"I eat {0} apples\".format(\"one million\")\n",
        "print(b)"
      ],
      "execution_count": 0,
      "outputs": [
        {
          "output_type": "stream",
          "text": [
            "I eat one million apples\n"
          ],
          "name": "stdout"
        }
      ]
    },
    {
      "metadata": {
        "id": "UJVOPfwhA_67",
        "colab_type": "text"
      },
      "cell_type": "markdown",
      "source": [
        "### 3. 숫자 값을 가진 변수로 대입하기"
      ]
    },
    {
      "metadata": {
        "id": "wWwdcHufA_2X",
        "colab_type": "code",
        "outputId": "515bb84a-f3f3-4d55-8f0e-6ac49f926715",
        "colab": {
          "base_uri": "https://localhost:8080/",
          "height": 34
        }
      },
      "cell_type": "code",
      "source": [
        "number = 1234\n",
        "c = \"You eat {0} apples.\".format(number)\n",
        "print(c)"
      ],
      "execution_count": 0,
      "outputs": [
        {
          "output_type": "stream",
          "text": [
            "You eat 1234 apples.\n"
          ],
          "name": "stdout"
        }
      ]
    },
    {
      "metadata": {
        "id": "yMK4KoMNA_yR",
        "colab_type": "text"
      },
      "cell_type": "markdown",
      "source": [
        "### 4. 2개 이상의 값 넣기"
      ]
    },
    {
      "metadata": {
        "id": "SQFHHFy3A_uI",
        "colab_type": "code",
        "outputId": "56a83c2d-7380-4fa7-997c-b72b0e844ae0",
        "colab": {
          "base_uri": "https://localhost:8080/",
          "height": 34
        }
      },
      "cell_type": "code",
      "source": [
        "number = 123\n",
        "year = \"eight\"\n",
        "\n",
        "a = \"You ate {0} pillophones. so you was sick {1} years\".format(number, year)\n",
        "print(a)"
      ],
      "execution_count": 0,
      "outputs": [
        {
          "output_type": "stream",
          "text": [
            "You ate 123 pillophones. so you was sick eight years\n"
          ],
          "name": "stdout"
        }
      ]
    },
    {
      "metadata": {
        "id": "UkAJD_6wC9tI",
        "colab_type": "text"
      },
      "cell_type": "markdown",
      "source": [
        "2개 이상의 값을 넣을 경우, 문자열의 {0}, {1}과 같은 인덱스 항목들이 format 함수의 입력값들로 순서에 맞게 바뀐다.\n",
        "\n",
        "{0}은 format함수의 number, {1}은 format함수의 year로 바뀐다."
      ]
    },
    {
      "metadata": {
        "colab_type": "code",
        "outputId": "70bec831-3fe5-4f1e-aea3-d60af4dba15a",
        "id": "_mLa8Xr8Euh-",
        "colab": {
          "base_uri": "https://localhost:8080/",
          "height": 34
        }
      },
      "cell_type": "code",
      "source": [
        "# 사실 {} 안이 공란이어도 잘 작동되는거 같다.\n",
        "\n",
        "number = 123\n",
        "year = \"eight\"\n",
        "\n",
        "a = \"You ate {} pillophones. so you was sick {} years\".format(number, year)\n",
        "print(a)"
      ],
      "execution_count": 0,
      "outputs": [
        {
          "output_type": "stream",
          "text": [
            "You ate 123 pillophones. so you was sick eight years\n"
          ],
          "name": "stdout"
        }
      ]
    },
    {
      "metadata": {
        "id": "Iyjvf7AxC9gn",
        "colab_type": "text"
      },
      "cell_type": "markdown",
      "source": [
        "### 5. 이름으로 넣기"
      ]
    },
    {
      "metadata": {
        "id": "hn-0WwUQC9bz",
        "colab_type": "code",
        "outputId": "727eebae-a58b-4528-cc88-70443c83ae6f",
        "colab": {
          "base_uri": "https://localhost:8080/",
          "height": 34
        }
      },
      "cell_type": "code",
      "source": [
        "a = \"You ate {number} pillophones. so you was sick {year} years\".format(number=666, year=\"eight\")\n",
        "print(a)"
      ],
      "execution_count": 0,
      "outputs": [
        {
          "output_type": "stream",
          "text": [
            "You ate 666 pillophones. so you was sick eight years\n"
          ],
          "name": "stdout"
        }
      ]
    },
    {
      "metadata": {
        "id": "Yav242fXC9XK",
        "colab_type": "text"
      },
      "cell_type": "markdown",
      "source": [
        "이 형태는 반드시 name = value와 같은 형태의 입력값이 있어야 한다."
      ]
    },
    {
      "metadata": {
        "id": "O6Gz1GEVC9R_",
        "colab_type": "text"
      },
      "cell_type": "markdown",
      "source": [
        "### 6. 인덱스와 이름을 혼용해서 넣기"
      ]
    },
    {
      "metadata": {
        "id": "SWdvZFJbA_pu",
        "colab_type": "code",
        "outputId": "7255086e-733f-45ef-83e5-0a60e7a9222c",
        "colab": {
          "base_uri": "https://localhost:8080/",
          "height": 34
        }
      },
      "cell_type": "code",
      "source": [
        "a = \"You ate {0} pillophones. so you was sick {year} years\".format(666, year=\"eight\")\n",
        "print(a)"
      ],
      "execution_count": 0,
      "outputs": [
        {
          "output_type": "stream",
          "text": [
            "You ate 666 pillophones. so you was sick eight years\n"
          ],
          "name": "stdout"
        }
      ]
    },
    {
      "metadata": {
        "id": "n8V5jamKA_lE",
        "colab_type": "text"
      },
      "cell_type": "markdown",
      "source": [
        "인덱스 항목과 name = value 형태를 혼용하는 것도 가능하다."
      ]
    },
    {
      "metadata": {
        "id": "QnfTA8GkujBe",
        "colab_type": "text"
      },
      "cell_type": "markdown",
      "source": [
        "### 7. 왼쪽 정렬\n",
        "\n",
        ":<10 표현식을 이용하면 치환되는 문자열을 왼쪽으로 정렬하고 문자열의 총 자릿수를 10으로 맞춘다."
      ]
    },
    {
      "metadata": {
        "id": "3TXm8HRDF41r",
        "colab_type": "code",
        "outputId": "9df4331b-0bba-48ab-f39a-c99080446d4d",
        "colab": {
          "base_uri": "https://localhost:8080/",
          "height": 34
        }
      },
      "cell_type": "code",
      "source": [
        "a = \"{0:<10}\".format(\"Heelll\")\n",
        "print(a)"
      ],
      "execution_count": 0,
      "outputs": [
        {
          "output_type": "stream",
          "text": [
            "Heelll    \n"
          ],
          "name": "stdout"
        }
      ]
    },
    {
      "metadata": {
        "id": "t4YV-mxSF4wr",
        "colab_type": "text"
      },
      "cell_type": "markdown",
      "source": [
        "### 8. 오른쪽 정렬\n",
        "\n",
        ":>10은 반대로 오른쪽으로 정렬하고 총 자릿수를 10으로 맞춘다."
      ]
    },
    {
      "metadata": {
        "id": "dpDD75YJF4rv",
        "colab_type": "code",
        "outputId": "d1de4b55-5480-441e-a3ee-0abafb583f8f",
        "colab": {
          "base_uri": "https://localhost:8080/",
          "height": 34
        }
      },
      "cell_type": "code",
      "source": [
        "a = \"{0:>20}\".format(\"Heelll\")\n",
        "print(a)"
      ],
      "execution_count": 0,
      "outputs": [
        {
          "output_type": "stream",
          "text": [
            "              Heelll\n"
          ],
          "name": "stdout"
        }
      ]
    },
    {
      "metadata": {
        "id": "5KlXjo2sF4m7",
        "colab_type": "text"
      },
      "cell_type": "markdown",
      "source": [
        "### 9. 가운데 정렬\n",
        "\n",
        ":^ 기호는 가운데 정렬을 뜻한다."
      ]
    },
    {
      "metadata": {
        "id": "UzKT8x-WF4ib",
        "colab_type": "code",
        "outputId": "afe1838f-230e-4615-db59-534cc6c48e34",
        "colab": {
          "base_uri": "https://localhost:8080/",
          "height": 34
        }
      },
      "cell_type": "code",
      "source": [
        "a = \"{0:^15}\".format(\"Heelll\")\n",
        "print(a)"
      ],
      "execution_count": 0,
      "outputs": [
        {
          "output_type": "stream",
          "text": [
            "    Heelll     \n"
          ],
          "name": "stdout"
        }
      ]
    },
    {
      "metadata": {
        "id": "Otwh_WhvF4d4",
        "colab_type": "text"
      },
      "cell_type": "markdown",
      "source": [
        "### 10. 공백 채우기\n",
        "\n",
        "정렬 시 공백 문자 대신 지정한 문자로 채워넣는 것도 가능하다.\n",
        "\n",
        "채워넣을 문자값은 정렬 문자인 <, >, ^ 바로 앞에 넣어야 한다."
      ]
    },
    {
      "metadata": {
        "id": "nD8ozSBVHr28",
        "colab_type": "code",
        "outputId": "0b1713ae-5371-4dfa-9a39-ac1f3431ef6c",
        "colab": {
          "base_uri": "https://localhost:8080/",
          "height": 51
        }
      },
      "cell_type": "code",
      "source": [
        "a = \"{0:*^20}\".format(\"Hell\")\n",
        "print(a)\n",
        "\n",
        "b = \"{0:!<15}\".format(\"YOU DIE\")\n",
        "print(b)"
      ],
      "execution_count": 0,
      "outputs": [
        {
          "output_type": "stream",
          "text": [
            "********Hell********\n",
            "YOU DIE!!!!!!!!\n"
          ],
          "name": "stdout"
        }
      ]
    },
    {
      "metadata": {
        "id": "E8Cbdb0rHrx5",
        "colab_type": "text"
      },
      "cell_type": "markdown",
      "source": [
        "### 11.소수점 표현하기"
      ]
    },
    {
      "metadata": {
        "id": "Zp9d3ZgPHrtC",
        "colab_type": "code",
        "outputId": "bca89dbb-4b0f-4802-f368-74ab1f879139",
        "colab": {
          "base_uri": "https://localhost:8080/",
          "height": 34
        }
      },
      "cell_type": "code",
      "source": [
        "x = 9.12345678\n",
        "\n",
        "a = \"{0:0.3f}\".format(x)\n",
        "print(a)"
      ],
      "execution_count": 0,
      "outputs": [
        {
          "output_type": "stream",
          "text": [
            "9.123\n"
          ],
          "name": "stdout"
        }
      ]
    },
    {
      "metadata": {
        "id": "pAC0MAQSHrnw",
        "colab_type": "code",
        "outputId": "5b06cae0-9acf-4c2e-a3d1-a091ebccb5ee",
        "colab": {
          "base_uri": "https://localhost:8080/",
          "height": 34
        }
      },
      "cell_type": "code",
      "source": [
        "y = 5.123456789\n",
        "\n",
        "a = \"{0:20.5f}\".format(y)\n",
        "print(a)"
      ],
      "execution_count": 0,
      "outputs": [
        {
          "output_type": "stream",
          "text": [
            "             5.12346\n"
          ],
          "name": "stdout"
        }
      ]
    },
    {
      "metadata": {
        "id": "hAvYNq8xHri8",
        "colab_type": "code",
        "outputId": "774bb123-67e4-4b19-c6dc-343c8460a84f",
        "colab": {
          "base_uri": "https://localhost:8080/",
          "height": 34
        }
      },
      "cell_type": "code",
      "source": [
        "# 문자열 자릿수, 위치, 문자추가, 소수점 표현 적용\n",
        "\n",
        "z = 6.245678234\n",
        "\n",
        "a = \"{0:=^15.3f}\".format(z)\n",
        "print(a)\n",
        "\n",
        "# 혹시 추가하려는 문자 2개는 인식될까?\n",
        "# 안된다.\n",
        "#b = \"{0:==^15.3f}\".format(z)\n",
        "#print(b)"
      ],
      "execution_count": 0,
      "outputs": [
        {
          "output_type": "stream",
          "text": [
            "=====6.246=====\n"
          ],
          "name": "stdout"
        }
      ]
    },
    {
      "metadata": {
        "id": "dbU1n9rNHreA",
        "colab_type": "code",
        "outputId": "8f20565e-4411-4dca-b17b-37f6e5e5f21c",
        "colab": {
          "base_uri": "https://localhost:8080/",
          "height": 199
        }
      },
      "cell_type": "code",
      "source": [
        "# 혹시 인덱스값없이도 될까?\n",
        "\n",
        "b = \"{^15.3f}\".format(z)\n",
        "print(b)"
      ],
      "execution_count": 0,
      "outputs": [
        {
          "output_type": "error",
          "ename": "KeyError",
          "evalue": "ignored",
          "traceback": [
            "\u001b[0;31m---------------------------------------------------------------------------\u001b[0m",
            "\u001b[0;31mKeyError\u001b[0m                                  Traceback (most recent call last)",
            "\u001b[0;32m<ipython-input-53-7e4f1e199481>\u001b[0m in \u001b[0;36m<module>\u001b[0;34m()\u001b[0m\n\u001b[1;32m      1\u001b[0m \u001b[0;34m\u001b[0m\u001b[0m\n\u001b[0;32m----> 2\u001b[0;31m \u001b[0mb\u001b[0m \u001b[0;34m=\u001b[0m \u001b[0;34m\"{^15.3f}\"\u001b[0m\u001b[0;34m.\u001b[0m\u001b[0mformat\u001b[0m\u001b[0;34m(\u001b[0m\u001b[0mz\u001b[0m\u001b[0;34m)\u001b[0m\u001b[0;34m\u001b[0m\u001b[0;34m\u001b[0m\u001b[0m\n\u001b[0m\u001b[1;32m      3\u001b[0m \u001b[0mprint\u001b[0m\u001b[0;34m(\u001b[0m\u001b[0mb\u001b[0m\u001b[0;34m)\u001b[0m\u001b[0;34m\u001b[0m\u001b[0;34m\u001b[0m\u001b[0m\n",
            "\u001b[0;31mKeyError\u001b[0m: '^15'"
          ]
        }
      ]
    },
    {
      "metadata": {
        "id": "omSl03A9HrZD",
        "colab_type": "text"
      },
      "cell_type": "markdown",
      "source": [
        "### { 또는 } 문자 표현하기\n",
        "\n",
        "중괄호 문자를 포매팅이 아닌, 순수하게 표현하고 싶을 때 {{, }}처럼 2개를 연속해서 사용해야 한다."
      ]
    },
    {
      "metadata": {
        "id": "6CkROvgBHrT1",
        "colab_type": "code",
        "outputId": "320c41de-6e8d-47f1-8387-bf0ed7bf4bd5",
        "colab": {
          "base_uri": "https://localhost:8080/",
          "height": 34
        }
      },
      "cell_type": "code",
      "source": [
        "a = \"{{ and }}\".format()\n",
        "\n",
        "print(a)"
      ],
      "execution_count": 0,
      "outputs": [
        {
          "output_type": "stream",
          "text": [
            "{ and }\n"
          ],
          "name": "stdout"
        }
      ]
    },
    {
      "metadata": {
        "id": "WEoWy20MHrOi",
        "colab_type": "code",
        "outputId": "00a1d6e0-a266-4ef8-d8c7-260bf9b688c7",
        "colab": {
          "base_uri": "https://localhost:8080/",
          "height": 51
        }
      },
      "cell_type": "code",
      "source": [
        "# 그럼 문자열 변수를 따로 생성해서 중괄호를 두번 처리하면 어떻게 될까?\n",
        "a = \"{{HELL}}\"\n",
        "b = \"{0:=^20}\".format(a)\n",
        "print(b)\n",
        "print(type(b))\n",
        "# 변수 a 뒤에 format 선언을 안했기에 그냥 순수 문자열이 된 듯 하다."
      ],
      "execution_count": 0,
      "outputs": [
        {
          "output_type": "stream",
          "text": [
            "======{{HELL}}======\n",
            "<class 'str'>\n"
          ],
          "name": "stdout"
        }
      ]
    },
    {
      "metadata": {
        "id": "kSnCQ0k7F4Zd",
        "colab_type": "code",
        "outputId": "7ded7c87-e393-4954-eec9-6fdee3dc2836",
        "colab": {
          "base_uri": "https://localhost:8080/",
          "height": 51
        }
      },
      "cell_type": "code",
      "source": [
        "# 그렇다면 혹시 기존의 다양한 방식에 중괄호를 포함하고 싶다면 어떻게 해야하나?\n",
        "c = \"HELL\"\n",
        "d = \"{{0:^20}}\".format(c)\n",
        "print(d)\n",
        "print(type(d))\n",
        "# 중괄호를 두번 쓰면 그 내용이 문자열 처리가 되는걸까? \"\"로 묶었기에 그냥 문자열 처리가 되는걸까?"
      ],
      "execution_count": 0,
      "outputs": [
        {
          "output_type": "stream",
          "text": [
            "{0:^20}\n",
            "<class 'str'>\n"
          ],
          "name": "stdout"
        }
      ]
    },
    {
      "metadata": {
        "id": "4_UwKYgPF4S8",
        "colab_type": "code",
        "outputId": "051ff080-cb02-4dcc-c89b-106e21c1e4e8",
        "colab": {
          "base_uri": "https://localhost:8080/",
          "height": 51
        }
      },
      "cell_type": "code",
      "source": [
        "# 포매팅 중괄호 안에서 중괄호를 표현하는 것보다, 다른 문자열 변수에서 중괄호를 표현하는 것이 더 나아보인다.\n",
        "e = \"{HELL}\"\n",
        "f = \"{0:*^10}\".format(e)\n",
        "print(f)\n",
        "print(type(f))"
      ],
      "execution_count": 0,
      "outputs": [
        {
          "output_type": "stream",
          "text": [
            "**{HELL}**\n",
            "<class 'str'>\n"
          ],
          "name": "stdout"
        }
      ]
    },
    {
      "metadata": {
        "id": "MpJnRtnNF4ON",
        "colab_type": "text"
      },
      "cell_type": "markdown",
      "source": [
        "## f 문자열 포매팅\n",
        "\n",
        "**파이썬 3.6부터는 f 문자열 포매팅 사용 불가!**\n",
        "\n",
        "문자열 앞에 접두사 f를 붙이면 f 문자열 포매팅 기능을 쓸 수 있다. 알아만 두자."
      ]
    },
    {
      "metadata": {
        "id": "T2l21rjjF4Jt",
        "colab_type": "code",
        "colab": {
          "base_uri": "https://localhost:8080/",
          "height": 34
        },
        "outputId": "358fc348-6c98-44e7-f5fa-20efe8645bf7"
      },
      "cell_type": "code",
      "source": [
        "name = '이희성'\n",
        "age = 30\n",
        "\n",
        "f'나의 이름은 {name}입니다. 나이는 {age}입니다.'"
      ],
      "execution_count": 3,
      "outputs": [
        {
          "output_type": "execute_result",
          "data": {
            "text/plain": [
              "'나의 이름은 이희성입니다. 나이는 30입니다.'"
            ]
          },
          "metadata": {
            "tags": []
          },
          "execution_count": 3
        }
      ]
    },
    {
      "metadata": {
        "id": "X9MocpppF4FM",
        "colab_type": "text"
      },
      "cell_type": "markdown",
      "source": [
        "f 문자열 포매팅은 위와 같이 name, age와 같은 변수 값을 생성한 후에 그 값을 참조할 수 있다.\n",
        "\n",
        "또한, 표현식을 지원하기 때문에 다음과 같은 것도 가능하다."
      ]
    },
    {
      "metadata": {
        "id": "a6I06KvCF3_t",
        "colab_type": "code",
        "colab": {
          "base_uri": "https://localhost:8080/",
          "height": 34
        },
        "outputId": "f03ed28c-de46-45a4-e768-97e3eba9bac3"
      },
      "cell_type": "code",
      "source": [
        "age = 30\n",
        "\n",
        "f'나는 내년이면 {age+100}살이 된다.'"
      ],
      "execution_count": 4,
      "outputs": [
        {
          "output_type": "execute_result",
          "data": {
            "text/plain": [
              "'나는 내년이면 130살이 된다.'"
            ]
          },
          "metadata": {
            "tags": []
          },
          "execution_count": 4
        }
      ]
    },
    {
      "metadata": {
        "id": "my3ixh_eF37H",
        "colab_type": "text"
      },
      "cell_type": "markdown",
      "source": [
        "딕셔너리 사용법이다."
      ]
    },
    {
      "metadata": {
        "id": "Hwfo13xlF30e",
        "colab_type": "code",
        "colab": {
          "base_uri": "https://localhost:8080/",
          "height": 34
        },
        "outputId": "aac7c956-c63e-4f22-ebf4-fd3eef3ea417"
      },
      "cell_type": "code",
      "source": [
        "dic = {'name':'홍길동', 'age':560}\n",
        "\n",
        "f'너의 이름은 {dic[\"name\"]}이다. 나이는 {dic[\"age\"]}이다.'"
      ],
      "execution_count": 7,
      "outputs": [
        {
          "output_type": "execute_result",
          "data": {
            "text/plain": [
              "'너의 이름은 홍길동이다. 나이는 560이다.'"
            ]
          },
          "metadata": {
            "tags": []
          },
          "execution_count": 7
        }
      ]
    },
    {
      "metadata": {
        "id": "nZwtavTP1hPh",
        "colab_type": "text"
      },
      "cell_type": "markdown",
      "source": [
        "정렬은 다음과 같다."
      ]
    },
    {
      "metadata": {
        "id": "CQ1Yjw1g1hKI",
        "colab_type": "code",
        "colab": {
          "base_uri": "https://localhost:8080/",
          "height": 68
        },
        "outputId": "1159c86a-e434-4456-a5c0-c0503851d664"
      },
      "cell_type": "code",
      "source": [
        "print(f'{\"hi\":<10}') # 왼쪽 정렬\n",
        "print(f'{\"hi\":>10}') # 오른쪽 정렬\n",
        "print(f'{\"hi\":^10}') # 가운데 정렬\n"
      ],
      "execution_count": 16,
      "outputs": [
        {
          "output_type": "stream",
          "text": [
            "hi        \n",
            "        hi\n",
            "    hi    \n"
          ],
          "name": "stdout"
        }
      ]
    },
    {
      "metadata": {
        "id": "3Qe0h3-J1hEb",
        "colab_type": "text"
      },
      "cell_type": "markdown",
      "source": [
        "공백 채우기다."
      ]
    },
    {
      "metadata": {
        "id": "nOZ8S-7R5NpD",
        "colab_type": "code",
        "colab": {
          "base_uri": "https://localhost:8080/",
          "height": 51
        },
        "outputId": "6e476aae-662d-4ec8-ffd7-488e77ac5550"
      },
      "cell_type": "code",
      "source": [
        "print(f'{\"hi\":=^10}') # 가운데 정렬 후, '=' 문자로 공백 채우기\n",
        "print(f'{\"hell\":!<20}') # 왼쪽 정렬 후, '!' 문자로 공백 채우기"
      ],
      "execution_count": 18,
      "outputs": [
        {
          "output_type": "stream",
          "text": [
            "====hi====\n",
            "hell!!!!!!!!!!!!!!!!\n"
          ],
          "name": "stdout"
        }
      ]
    },
    {
      "metadata": {
        "id": "mstVE_R61g-q",
        "colab_type": "text"
      },
      "cell_type": "markdown",
      "source": [
        "소수점은 다음과 같이 표현할 수 있다."
      ]
    },
    {
      "metadata": {
        "id": "2qMWmPMM1g49",
        "colab_type": "code",
        "colab": {
          "base_uri": "https://localhost:8080/",
          "height": 51
        },
        "outputId": "20c12179-08d5-4799-9329-e45322324388"
      },
      "cell_type": "code",
      "source": [
        "y = 3.4212352345798\n",
        "\n",
        "print(f'{y:0.4f}') # 소수점 4자리까지\n",
        "print(f'{y:20.5f}') # 소수점 5자리까지 표현 및 총 자리수 20으로"
      ],
      "execution_count": 19,
      "outputs": [
        {
          "output_type": "stream",
          "text": [
            "3.4212\n",
            "             3.42124\n"
          ],
          "name": "stdout"
        }
      ]
    },
    {
      "metadata": {
        "id": "tagxnNXU1gz4",
        "colab_type": "text"
      },
      "cell_type": "markdown",
      "source": [
        "f 문자열에서 {나 } 문자를 표시하려면 두 개를 동시에 사용해야 한다."
      ]
    },
    {
      "metadata": {
        "id": "CCA-X9OA1gu7",
        "colab_type": "code",
        "colab": {
          "base_uri": "https://localhost:8080/",
          "height": 34
        },
        "outputId": "8b84ee72-2329-4721-ac48-01ae82b06482"
      },
      "cell_type": "code",
      "source": [
        "print(f'{{ and }}')"
      ],
      "execution_count": 20,
      "outputs": [
        {
          "output_type": "stream",
          "text": [
            "{ and }\n"
          ],
          "name": "stdout"
        }
      ]
    },
    {
      "metadata": {
        "id": "a98u9mb-1gqh",
        "colab_type": "text"
      },
      "cell_type": "markdown",
      "source": [
        "# 문자열 관련 함수들\n",
        "\n",
        "문자열 자료형은 자체적으로 가지고 있는 함수들이 있다. 다른 말로 문자열 내장함수라고도 한다."
      ]
    },
    {
      "metadata": {
        "id": "DhJeLejx1gmH",
        "colab_type": "text"
      },
      "cell_type": "markdown",
      "source": [
        "## 문자 개수 세기 (count)\n",
        "\n",
        "지정 문자의 개수를 반환."
      ]
    },
    {
      "metadata": {
        "id": "za90FCyP1ghZ",
        "colab_type": "code",
        "colab": {
          "base_uri": "https://localhost:8080/",
          "height": 34
        },
        "outputId": "af61ece0-9c35-4415-d02f-813af997e17a"
      },
      "cell_type": "code",
      "source": [
        "a = \"HELL\"\n",
        "\n",
        "print(a.count('L'))"
      ],
      "execution_count": 22,
      "outputs": [
        {
          "output_type": "stream",
          "text": [
            "2\n"
          ],
          "name": "stdout"
        }
      ]
    },
    {
      "metadata": {
        "id": "Px26P3jg1gc1",
        "colab_type": "text"
      },
      "cell_type": "markdown",
      "source": [
        "## 위치 알려주기1 (find)\n",
        "\n",
        "지정 문자가 처음으로 나온 위치를 반환. 찾는 문자나 문자열이 존재하지 않을 시 -1 반환.\n",
        "\n",
        "**파이썬은 숫자를 0부터 세는 것을 잊지 말자! 더불어 문자열의 공백도 문자에 속한다.**"
      ]
    },
    {
      "metadata": {
        "id": "9qQve1851gYQ",
        "colab_type": "code",
        "colab": {
          "base_uri": "https://localhost:8080/",
          "height": 51
        },
        "outputId": "77876f0e-ca75-4dc6-a177-5fa94da099ff"
      },
      "cell_type": "code",
      "source": [
        "a = \"Lee is not very smart guy\"\n",
        "\n",
        "print(a.find('v'))\n",
        "print(a.find('z'))"
      ],
      "execution_count": 24,
      "outputs": [
        {
          "output_type": "stream",
          "text": [
            "11\n",
            "-1\n"
          ],
          "name": "stdout"
        }
      ]
    },
    {
      "metadata": {
        "id": "nIVhYEFp1gT0",
        "colab_type": "text"
      },
      "cell_type": "markdown",
      "source": [
        "## 위치 알려주기2 (index)\n",
        "\n",
        "위의 find와 다른 점은, 문자열 안에 존재하지 않는 문자를 찾으려하면 오류가 발생하는 점이다."
      ]
    },
    {
      "metadata": {
        "id": "fdqA5zyf1gPZ",
        "colab_type": "code",
        "colab": {
          "base_uri": "https://localhost:8080/",
          "height": 51
        },
        "outputId": "a508c4e4-d8a0-43e2-9d78-631b8ee6d114"
      },
      "cell_type": "code",
      "source": [
        "b = \"Life is too very short\"\n",
        "\n",
        "print(b.index('v'))\n",
        "print(b.index(\" \"))"
      ],
      "execution_count": 28,
      "outputs": [
        {
          "output_type": "stream",
          "text": [
            "12\n",
            "4\n"
          ],
          "name": "stdout"
        }
      ]
    },
    {
      "metadata": {
        "id": "V7HCeQ6-1gKn",
        "colab_type": "code",
        "colab": {
          "base_uri": "https://localhost:8080/",
          "height": 283
        },
        "outputId": "182d27e4-79eb-49cd-d593-922cebbdcdc3"
      },
      "cell_type": "code",
      "source": [
        "b = \"Life is too very short\"\n",
        "\n",
        "print(b.index('z'))"
      ],
      "execution_count": 29,
      "outputs": [
        {
          "output_type": "error",
          "ename": "ValueError",
          "evalue": "ignored",
          "traceback": [
            "\u001b[0;31m---------------------------------------------------------------------------\u001b[0m",
            "\u001b[0;31mValueError\u001b[0m                                Traceback (most recent call last)",
            "\u001b[0;32m<ipython-input-29-dcd4ca3a2a5d>\u001b[0m in \u001b[0;36m<module>\u001b[0;34m()\u001b[0m\n\u001b[1;32m      1\u001b[0m \u001b[0mb\u001b[0m \u001b[0;34m=\u001b[0m \u001b[0;34m\"Life is too very short\"\u001b[0m\u001b[0;34m\u001b[0m\u001b[0;34m\u001b[0m\u001b[0m\n\u001b[1;32m      2\u001b[0m \u001b[0;34m\u001b[0m\u001b[0m\n\u001b[0;32m----> 3\u001b[0;31m \u001b[0mprint\u001b[0m\u001b[0;34m(\u001b[0m\u001b[0mb\u001b[0m\u001b[0;34m.\u001b[0m\u001b[0mindex\u001b[0m\u001b[0;34m(\u001b[0m\u001b[0;34m'z'\u001b[0m\u001b[0;34m)\u001b[0m\u001b[0;34m)\u001b[0m\u001b[0;34m\u001b[0m\u001b[0;34m\u001b[0m\u001b[0m\n\u001b[0m",
            "\u001b[0;31mValueError\u001b[0m: substring not found"
          ]
        }
      ]
    },
    {
      "metadata": {
        "id": "npbRA2031gFt",
        "colab_type": "text"
      },
      "cell_type": "markdown",
      "source": [
        "## 문자열 삽입 (join)\n",
        "\n",
        "문자열 각각의 문자 사이에 지정 문자를 삽입.\n",
        "\n",
        "join 함수는 문자열 이외에 리스트나 튜플을 입력으로 사용할 수 있다."
      ]
    },
    {
      "metadata": {
        "id": "rWI8NXhG98hz",
        "colab_type": "code",
        "colab": {
          "base_uri": "https://localhost:8080/",
          "height": 34
        },
        "outputId": "ca7b2502-b408-4ff5-c096-63ef21d0c936"
      },
      "cell_type": "code",
      "source": [
        "a = \":::\".join(\"abcde\")\n",
        "\n",
        "print(a)"
      ],
      "execution_count": 30,
      "outputs": [
        {
          "output_type": "stream",
          "text": [
            "a:::b:::c:::d:::e\n"
          ],
          "name": "stdout"
        }
      ]
    },
    {
      "metadata": {
        "id": "eZullPsM98cu",
        "colab_type": "code",
        "colab": {
          "base_uri": "https://localhost:8080/",
          "height": 34
        },
        "outputId": "5a973873-8de6-479f-847d-124b05abe11d"
      },
      "cell_type": "code",
      "source": [
        "# 리스트에서 사용하는 예\n",
        "\n",
        "b = \"=*=\".join(['a','b','c','d','e'])\n",
        "\n",
        "print(b)"
      ],
      "execution_count": 32,
      "outputs": [
        {
          "output_type": "stream",
          "text": [
            "a=*=b=*=c=*=d=*=e\n"
          ],
          "name": "stdout"
        }
      ]
    },
    {
      "metadata": {
        "id": "9gk6kTvW98Xw",
        "colab_type": "text"
      },
      "cell_type": "markdown",
      "source": [
        "## 소문자를 대문자로 (upper)\n",
        "\n",
        "해당 문자열이 이미 대문자인 경우 아무 변화가 없을 것이다."
      ]
    },
    {
      "metadata": {
        "id": "3L5XACfQ98Sk",
        "colab_type": "code",
        "colab": {
          "base_uri": "https://localhost:8080/",
          "height": 51
        },
        "outputId": "713ade25-9eab-476a-b63f-2745ad53d6d2"
      },
      "cell_type": "code",
      "source": [
        "a = \"hell\"\n",
        "a.upper()\n",
        "\n",
        "print(a)\n",
        "print(a.upper())"
      ],
      "execution_count": 34,
      "outputs": [
        {
          "output_type": "stream",
          "text": [
            "hell\n",
            "HELL\n"
          ],
          "name": "stdout"
        }
      ]
    },
    {
      "metadata": {
        "id": "cqxii4GQ98Nk",
        "colab_type": "code",
        "colab": {
          "base_uri": "https://localhost:8080/",
          "height": 34
        },
        "outputId": "9b735316-2965-4226-e08f-7a05b892799b"
      },
      "cell_type": "code",
      "source": [
        "# 만약 몇몇 문자만 대문자인 경우는?\n",
        "\n",
        "b = 'heLLo'\n",
        "\n",
        "print(b.upper())"
      ],
      "execution_count": 35,
      "outputs": [
        {
          "output_type": "stream",
          "text": [
            "HELLO\n"
          ],
          "name": "stdout"
        }
      ]
    },
    {
      "metadata": {
        "id": "oHw1BW3d98If",
        "colab_type": "text"
      },
      "cell_type": "markdown",
      "source": [
        "## 대문자를 소문자로 (lower)"
      ]
    },
    {
      "metadata": {
        "id": "C6TmhXZe98Dg",
        "colab_type": "code",
        "colab": {
          "base_uri": "https://localhost:8080/",
          "height": 34
        },
        "outputId": "c59b325c-8276-4ab5-e285-b38a197f6bfa"
      },
      "cell_type": "code",
      "source": [
        "a = \"HeLLo\"\n",
        "\n",
        "print(a.lower())"
      ],
      "execution_count": 36,
      "outputs": [
        {
          "output_type": "stream",
          "text": [
            "hello\n"
          ],
          "name": "stdout"
        }
      ]
    },
    {
      "metadata": {
        "id": "1AofNR5I97-f",
        "colab_type": "text"
      },
      "cell_type": "markdown",
      "source": [
        "## 왼쪽 공백 지우기 (lstrip)\n",
        "\n",
        "문자열 중 가장 왼쪽에 있는 한 칸 이상의 연속된 공백들을 모두 지운다. l은 left를 의미."
      ]
    },
    {
      "metadata": {
        "id": "7hzlBPEP975h",
        "colab_type": "code",
        "colab": {
          "base_uri": "https://localhost:8080/",
          "height": 51
        },
        "outputId": "8173ebf4-c35d-4698-cf2c-64553fd4b92d"
      },
      "cell_type": "code",
      "source": [
        "a = \" Hi \"\n",
        "print(a.lstrip())\n",
        "\n",
        "b = \"   HELL   \"\n",
        "print(b.lstrip())"
      ],
      "execution_count": 38,
      "outputs": [
        {
          "output_type": "stream",
          "text": [
            "Hi \n",
            "HELL   \n"
          ],
          "name": "stdout"
        }
      ]
    },
    {
      "metadata": {
        "id": "bKmukB9V970j",
        "colab_type": "text"
      },
      "cell_type": "markdown",
      "source": [
        "## 오른쪽 공백 지우기 (rstrip)\n",
        "\n",
        "r은 right를 의미."
      ]
    },
    {
      "metadata": {
        "id": "F5OupKvO97vP",
        "colab_type": "code",
        "colab": {
          "base_uri": "https://localhost:8080/",
          "height": 51
        },
        "outputId": "b2f46f6e-0ff7-4d96-e60c-48694b34b2ec"
      },
      "cell_type": "code",
      "source": [
        "a = \" Hi \"\n",
        "b = \"   HELL   \"\n",
        "\n",
        "print(a.rstrip())\n",
        "print(b.rstrip())"
      ],
      "execution_count": 39,
      "outputs": [
        {
          "output_type": "stream",
          "text": [
            " Hi\n",
            "   HELL\n"
          ],
          "name": "stdout"
        }
      ]
    },
    {
      "metadata": {
        "id": "XHYgt1RAFScO",
        "colab_type": "text"
      },
      "cell_type": "markdown",
      "source": [
        "## 양쪽 공백 지우기 (strip)\n",
        "\n",
        "문자열 양쪽에 있는 한 칸 이상의 연속된 공백들을 모두 지운다."
      ]
    },
    {
      "metadata": {
        "id": "Il-fCzdp97qQ",
        "colab_type": "code",
        "colab": {
          "base_uri": "https://localhost:8080/",
          "height": 51
        },
        "outputId": "ea7f078c-b4fa-441a-dd3d-5d31886a7a2d"
      },
      "cell_type": "code",
      "source": [
        "a = \" Hi \"\n",
        "b = \"   HELL   \"\n",
        "\n",
        "print(a.strip())\n",
        "print(b.strip())"
      ],
      "execution_count": 40,
      "outputs": [
        {
          "output_type": "stream",
          "text": [
            "Hi\n",
            "HELL\n"
          ],
          "name": "stdout"
        }
      ]
    },
    {
      "metadata": {
        "id": "yz-cxfUe97kz",
        "colab_type": "text"
      },
      "cell_type": "markdown",
      "source": [
        "## 문자열 바꾸기 (replace)\n",
        "\n",
        "replace(바뀌게 될 문자열, 바꿀 문자열)처럼 사용한다. 문자열 내 특정 값을 다른 값으로 치환."
      ]
    },
    {
      "metadata": {
        "id": "IgU7Yru297fJ",
        "colab_type": "code",
        "colab": {
          "base_uri": "https://localhost:8080/",
          "height": 51
        },
        "outputId": "91e4dce0-8750-4207-cf0c-09669ef18db4"
      },
      "cell_type": "code",
      "source": [
        "a = \"Life is too very short\"\n",
        "\n",
        "print(a.replace(\"life\", \"Your body length\")) # 당연히 소문자와 대문자는 다른 문자이다!\n",
        "print(a.replace(\"Life\", \"Your body length\"))"
      ],
      "execution_count": 43,
      "outputs": [
        {
          "output_type": "stream",
          "text": [
            "Life is too very short\n",
            "Your body length is too very short\n"
          ],
          "name": "stdout"
        }
      ]
    },
    {
      "metadata": {
        "id": "BXXb6isEGnpE",
        "colab_type": "text"
      },
      "cell_type": "markdown",
      "source": [
        "## 문자열 나누기 (split)\n",
        "\n",
        "split()처럼 괄호 안에 아무런 값도 넣어주지 않으면 공백(스페이스, 탭, 엔터 등)을 기준으로 문자열을 나누어준다.\n",
        "\n",
        "split(':')처럼 괄호 안에 특정 값이 있을 경우, 괄호 안의 값을 구분자로 문자열을 나눈다.\n",
        "\n",
        "**이렇게 나눈 값은 리스트에 하나씩 들어가게 된다.**"
      ]
    },
    {
      "metadata": {
        "id": "0hEbQjzyGnjZ",
        "colab_type": "code",
        "colab": {
          "base_uri": "https://localhost:8080/",
          "height": 68
        },
        "outputId": "eee8de53-1341-4d3d-acc4-53fc67040c18"
      },
      "cell_type": "code",
      "source": [
        "shining = \"All work and no play makes Jack a dull boy\"\n",
        "\n",
        "print(shining.split())\n",
        "print(shining.split( ))\n",
        "#print(shining.split(\"\")) # 에러 발생!\n",
        "print(shining.split(\" \"))\n",
        "\n",
        "# 나머지는 다 동일한 취급을 하는 듯 하다."
      ],
      "execution_count": 48,
      "outputs": [
        {
          "output_type": "stream",
          "text": [
            "['All', 'work', 'and', 'no', 'play', 'makes', 'Jack', 'a', 'dull', 'boy']\n",
            "['All', 'work', 'and', 'no', 'play', 'makes', 'Jack', 'a', 'dull', 'boy']\n",
            "['All', 'work', 'and', 'no', 'play', 'makes', 'Jack', 'a', 'dull', 'boy']\n"
          ],
          "name": "stdout"
        }
      ]
    },
    {
      "metadata": {
        "id": "NQziBdjrGnd9",
        "colab_type": "code",
        "colab": {
          "base_uri": "https://localhost:8080/",
          "height": 86
        },
        "outputId": "93bf7ac8-5330-44b1-d446-068a2e0d36fb"
      },
      "cell_type": "code",
      "source": [
        "shining1 = \"All:work:and:no:play:makes:Jack:a:dull:boy\"\n",
        "shining2 = \"All:work=and:no play:makes=Jack:a dull:boy\"\n",
        "\n",
        "print(shining1.split(\":\"))\n",
        "\n",
        "print(shining2.split())\n",
        "print(shining2.split(\":\"))\n",
        "print(shining2.split(\"=\"))"
      ],
      "execution_count": 50,
      "outputs": [
        {
          "output_type": "stream",
          "text": [
            "['All', 'work', 'and', 'no', 'play', 'makes', 'Jack', 'a', 'dull', 'boy']\n",
            "['All:work=and:no', 'play:makes=Jack:a', 'dull:boy']\n",
            "['All', 'work=and', 'no play', 'makes=Jack', 'a dull', 'boy']\n",
            "['All:work', 'and:no play:makes', 'Jack:a dull:boy']\n"
          ],
          "name": "stdout"
        }
      ]
    },
    {
      "metadata": {
        "id": "qYQRr2WBGnX9",
        "colab_type": "text"
      },
      "cell_type": "markdown",
      "source": [
        "# 연습문제"
      ]
    },
    {
      "metadata": {
        "id": "1OaY46A5GnSZ",
        "colab_type": "text"
      },
      "cell_type": "markdown",
      "source": [
        "## Q1. 문자열 나누기\n",
        "\n",
        "이희성의 주민등록번호는 901230-2134567이다.\n",
        "\n",
        "이것을 연월일 부분과 나머지 부분으로 나누어 출력하라."
      ]
    },
    {
      "metadata": {
        "id": "BxafVuklGnM7",
        "colab_type": "code",
        "colab": {}
      },
      "cell_type": "code",
      "source": [
        ""
      ],
      "execution_count": 0,
      "outputs": []
    },
    {
      "metadata": {
        "id": "jfPPz4VbGnHh",
        "colab_type": "text"
      },
      "cell_type": "markdown",
      "source": [
        "## 문자열 인덱싱\n",
        "\n",
        "주민등록번호 뒷자리의 첫번째 숫자는 성별을 나타낸다.\n",
        "\n",
        "위의 주민등록번호에서 성별을 나타내는 숫자만 출력하라."
      ]
    },
    {
      "metadata": {
        "id": "FQsl8itVGnCM",
        "colab_type": "code",
        "colab": {}
      },
      "cell_type": "code",
      "source": [
        ""
      ],
      "execution_count": 0,
      "outputs": []
    },
    {
      "metadata": {
        "id": "Hz3ouiuvGm8L",
        "colab_type": "text"
      },
      "cell_type": "markdown",
      "source": [
        "## Q3. 문자열 바꾸기1\n",
        "\n",
        "a:b:c:d:e 문자열을 a=b=c=d=e로 바꾸라."
      ]
    },
    {
      "metadata": {
        "id": "iIPTN6CCGm15",
        "colab_type": "code",
        "colab": {}
      },
      "cell_type": "code",
      "source": [
        ""
      ],
      "execution_count": 0,
      "outputs": []
    },
    {
      "metadata": {
        "id": "fGEmuoue1f_z",
        "colab_type": "text"
      },
      "cell_type": "markdown",
      "source": [
        "## Q4. 문자열 바꾸기2\n",
        "\n",
        "a:b:c:d:e 문자열을 split과 join 함수를 이용하여 a=b=c=d=e로 바꾸라.\n",
        "\n",
        "*Hint. 문자열을 \":\"로 split하면 리스트 자료형이 리턴된다. 리스트 자료형 역시 문자열처럼 join이 가능하다.*"
      ]
    },
    {
      "metadata": {
        "id": "Cc2DRuxmMS_j",
        "colab_type": "code",
        "colab": {}
      },
      "cell_type": "code",
      "source": [
        ""
      ],
      "execution_count": 0,
      "outputs": []
    }
  ]
}