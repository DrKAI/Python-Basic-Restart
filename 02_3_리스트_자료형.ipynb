{
  "nbformat": 4,
  "nbformat_minor": 0,
  "metadata": {
    "colab": {
      "name": "02-3 리스트 자료형.ipynb",
      "version": "0.3.2",
      "provenance": [],
      "collapsed_sections": [],
      "include_colab_link": true
    },
    "kernelspec": {
      "name": "python3",
      "display_name": "Python 3"
    }
  },
  "cells": [
    {
      "cell_type": "markdown",
      "metadata": {
        "id": "view-in-github",
        "colab_type": "text"
      },
      "source": [
        "<a href=\"https://colab.research.google.com/github/DrKAI/Python-Basic-Restart/blob/master/02_3_%EB%A6%AC%EC%8A%A4%ED%8A%B8_%EC%9E%90%EB%A3%8C%ED%98%95.ipynb\" target=\"_parent\"><img src=\"https://colab.research.google.com/assets/colab-badge.svg\" alt=\"Open In Colab\"/></a>"
      ]
    },
    {
      "metadata": {
        "id": "I0kQJ2WvMtjS",
        "colab_type": "text"
      },
      "cell_type": "markdown",
      "source": [
        "숫자와 문자열만으로 프로그래밍 하기엔 부족한 점이 많다.\n",
        "\n",
        "1 ~ 10까지의 숫자 중 홀수들의 모음인 1, 3, 5, 7, 9라는 집합이 있다 생각해보라.\n",
        "\n",
        "이런 숫자 모음을 숫자나 문자열로 표현하기엔 어려운 점이 많다.\n",
        "\n",
        "이런 점을 해소하기 위해 리스트 자료형이 있는 것이다."
      ]
    },
    {
      "metadata": {
        "id": "4HgQO_3SNJdc",
        "colab_type": "text"
      },
      "cell_type": "markdown",
      "source": [
        "# 리스트는 어떻게 만들고 사용할까?\n",
        "\n",
        "위의 1, 3, 5, 7, 9 숫자 모음은 리스트로는 어떻게 표현할까?"
      ]
    },
    {
      "metadata": {
        "id": "xgj5zHZxNJ4u",
        "colab_type": "code",
        "outputId": "2e6fd94c-acc8-4608-b924-dc3ef240374d",
        "colab": {
          "base_uri": "https://localhost:8080/",
          "height": 34
        }
      },
      "cell_type": "code",
      "source": [
        "list_name = [1, 3, 5, 7 ,9]\n",
        "\n",
        "print(list_name)"
      ],
      "execution_count": 0,
      "outputs": [
        {
          "output_type": "stream",
          "text": [
            "[1, 3, 5, 7, 9]\n"
          ],
          "name": "stdout"
        }
      ]
    },
    {
      "metadata": {
        "id": "TmOnNUibNJ9z",
        "colab_type": "text"
      },
      "cell_type": "markdown",
      "source": [
        "**리스트 이름 = [요소1, 요소2, 요소3, ..., 요소n]**\n",
        "\n",
        "리스트는 위와 같이 표현한다. 여러가지 리스트의 생김새를 살펴보자."
      ]
    },
    {
      "metadata": {
        "id": "xORTHKLHNKD4",
        "colab_type": "code",
        "colab": {}
      },
      "cell_type": "code",
      "source": [
        "a = []\n",
        "b = [1,2,3]\n",
        "c = ['Life','is','too','long']\n",
        "d = [1,2,'Life','long']\n",
        "e = [1,2,['Life','long']]"
      ],
      "execution_count": 0,
      "outputs": []
    },
    {
      "metadata": {
        "id": "sJTPt5FxOV7z",
        "colab_type": "text"
      },
      "cell_type": "markdown",
      "source": [
        "a처럼 아무것도 없는, 비어있는 리스트일 수도 있고,\n",
        "\n",
        "b처럼 숫자를 요소로 가지는 리스트일 수도 있고,\n",
        "\n",
        "c처럼 문자열을 요소로 가지는 리스트일 수도 있다.\n",
        "\n",
        "더불어 d처럼 숫자와 문자열을 함께 가질 수도 있고, e처럼 리스트 자체를 요소로 가질 수도 있다.\n",
        "\n",
        "**즉, 리스트 안에는 어떤 자료형이던 포함시킬 수 있다.**\n",
        "\n",
        "---\n",
        "\n",
        "*참고. 빈 리스트는 a = list()로 생성할 수도 있다.*"
      ]
    },
    {
      "metadata": {
        "id": "2DZIUWsiOWKS",
        "colab_type": "text"
      },
      "cell_type": "markdown",
      "source": [
        "# 리스트의 인덱싱과 슬라이싱"
      ]
    },
    {
      "metadata": {
        "id": "13584vcsOWHd",
        "colab_type": "text"
      },
      "cell_type": "markdown",
      "source": [
        "## 리스트 인덱싱"
      ]
    },
    {
      "metadata": {
        "id": "k0i0d4qROWDn",
        "colab_type": "code",
        "colab": {
          "base_uri": "https://localhost:8080/",
          "height": 68
        },
        "outputId": "74815d2c-cf30-41bf-cc0f-a83b7fa090ce"
      },
      "cell_type": "code",
      "source": [
        "a = [1,2,3,4,5]\n",
        "\n",
        "print(a[0])\n",
        "print(a[0]+a[4])\n",
        "\n",
        "print(a[-1])"
      ],
      "execution_count": 3,
      "outputs": [
        {
          "output_type": "stream",
          "text": [
            "1\n",
            "6\n",
            "5\n"
          ],
          "name": "stdout"
        }
      ]
    },
    {
      "metadata": {
        "id": "tHW2WM-JOWBI",
        "colab_type": "code",
        "colab": {
          "base_uri": "https://localhost:8080/",
          "height": 68
        },
        "outputId": "395eecb7-ba61-44ef-e518-a6e232443ada"
      },
      "cell_type": "code",
      "source": [
        "b = [1,2,3,['a','b','c']]\n",
        "\n",
        "print(b)\n",
        "print(b[-1])\n",
        "print(b[3])"
      ],
      "execution_count": 7,
      "outputs": [
        {
          "output_type": "stream",
          "text": [
            "[1, 2, 3, ['a', 'b', 'c']]\n",
            "['a', 'b', 'c']\n",
            "['a', 'b', 'c']\n"
          ],
          "name": "stdout"
        }
      ]
    },
    {
      "metadata": {
        "id": "fU5MXg1Yknch",
        "colab_type": "text"
      },
      "cell_type": "markdown",
      "source": [
        "리스트 b에 포함된 ['a','b','c'] 리스트에서 'a'값, 'b'값, 'c'값 꺼내기"
      ]
    },
    {
      "metadata": {
        "id": "iAVHgXxHOV5J",
        "colab_type": "code",
        "colab": {
          "base_uri": "https://localhost:8080/",
          "height": 86
        },
        "outputId": "994c6cda-943e-40bc-985b-6e1f900d1c8b"
      },
      "cell_type": "code",
      "source": [
        "b = [1,2,3,['a','b','c']]\n",
        "\n",
        "print(b[-1][0])\n",
        "print(b[3][0])\n",
        "print(b[-1][-3])\n",
        "print(b[3][-3])"
      ],
      "execution_count": 8,
      "outputs": [
        {
          "output_type": "stream",
          "text": [
            "a\n",
            "a\n",
            "a\n",
            "a\n"
          ],
          "name": "stdout"
        }
      ]
    },
    {
      "metadata": {
        "id": "GoybQ7KgkmmJ",
        "colab_type": "code",
        "colab": {
          "base_uri": "https://localhost:8080/",
          "height": 86
        },
        "outputId": "422d5d9e-31de-43f7-af81-486ee41f6a0c"
      },
      "cell_type": "code",
      "source": [
        "b = [1,2,3,['a','b','c']]\n",
        "\n",
        "print(b[-1][1])\n",
        "print(b[3][1])\n",
        "print(b[-1][-2])\n",
        "print(b[3][-2])"
      ],
      "execution_count": 1,
      "outputs": [
        {
          "output_type": "stream",
          "text": [
            "b\n",
            "b\n",
            "b\n",
            "b\n"
          ],
          "name": "stdout"
        }
      ]
    },
    {
      "metadata": {
        "id": "hVaZ-5VKklwo",
        "colab_type": "code",
        "colab": {
          "base_uri": "https://localhost:8080/",
          "height": 86
        },
        "outputId": "d488b85d-8653-4fe6-8c97-797d7173774e"
      },
      "cell_type": "code",
      "source": [
        "b = [1,2,3,['a','b','c']]\n",
        "\n",
        "print(b[-1][2])\n",
        "print(b[3][2])\n",
        "print(b[-1][-1])\n",
        "print(b[3][-1])"
      ],
      "execution_count": 10,
      "outputs": [
        {
          "output_type": "stream",
          "text": [
            "c\n",
            "c\n",
            "c\n",
            "c\n"
          ],
          "name": "stdout"
        }
      ]
    },
    {
      "metadata": {
        "id": "G-3fOikMOV1-",
        "colab_type": "text"
      },
      "cell_type": "markdown",
      "source": [
        "## 삼중 리스트 인덱싱\n",
        "\n",
        "**혼란스러우니까 자주 쓰지는 말고, 알아는 두자**"
      ]
    },
    {
      "metadata": {
        "id": "1lnz3dvPOVzc",
        "colab_type": "code",
        "colab": {
          "base_uri": "https://localhost:8080/",
          "height": 51
        },
        "outputId": "1a6213d3-37d2-484c-ee59-5b0c9cd17d5d"
      },
      "cell_type": "code",
      "source": [
        "a = [1,2,['a','b',['Life','Hell']]]\n",
        "\n",
        "print(a[2][2][1])\n",
        "print(a[-1][-1][-1])"
      ],
      "execution_count": 4,
      "outputs": [
        {
          "output_type": "stream",
          "text": [
            "Hell\n",
            "Hell\n"
          ],
          "name": "stdout"
        }
      ]
    },
    {
      "metadata": {
        "id": "zPhAM0s8OVwU",
        "colab_type": "text"
      },
      "cell_type": "markdown",
      "source": [
        "## 리스트 슬라이싱"
      ]
    },
    {
      "metadata": {
        "id": "63hVA8vhOVtQ",
        "colab_type": "code",
        "colab": {
          "base_uri": "https://localhost:8080/",
          "height": 68
        },
        "outputId": "02635a59-b4d2-409e-c9a5-85feeaa67573"
      },
      "cell_type": "code",
      "source": [
        "s = [0,1,2,3,4]\n",
        "\n",
        "print(s[0:2])\n",
        "\n",
        "a = s[:2]\n",
        "b = s[2:]\n",
        "\n",
        "print(a)\n",
        "print(b)"
      ],
      "execution_count": 6,
      "outputs": [
        {
          "output_type": "stream",
          "text": [
            "[0, 1]\n",
            "[0, 1]\n",
            "[2, 3, 4]\n"
          ],
          "name": "stdout"
        }
      ]
    },
    {
      "metadata": {
        "id": "he4j5qCdOVp6",
        "colab_type": "text"
      },
      "cell_type": "markdown",
      "source": [
        "## 중첩 리스트 슬라이싱"
      ]
    },
    {
      "metadata": {
        "id": "QhceI6SinwQU",
        "colab_type": "code",
        "colab": {
          "base_uri": "https://localhost:8080/",
          "height": 68
        },
        "outputId": "208eb3f0-c12c-464b-e84c-c0285c5403bb"
      },
      "cell_type": "code",
      "source": [
        "l = [1,2,3,['a','b','c'],4,5]\n",
        "\n",
        "print(l[2:5])\n",
        "\n",
        "print(l[3][:2])\n",
        "\n",
        "print(l[-3][1:])"
      ],
      "execution_count": 10,
      "outputs": [
        {
          "output_type": "stream",
          "text": [
            "[3, ['a', 'b', 'c'], 4]\n",
            "['a', 'b']\n",
            "['b', 'c']\n"
          ],
          "name": "stdout"
        }
      ]
    },
    {
      "metadata": {
        "id": "1QhTgy--nwu8",
        "colab_type": "text"
      },
      "cell_type": "markdown",
      "source": [
        "# 리스트 연산\n",
        "\n",
        "+, * 기호의 사용 가능"
      ]
    },
    {
      "metadata": {
        "id": "RGuxxV6YnwrR",
        "colab_type": "text"
      },
      "cell_type": "markdown",
      "source": [
        "## 리스트 더하기(+)"
      ]
    },
    {
      "metadata": {
        "id": "MBtrs2Kznwn1",
        "colab_type": "code",
        "colab": {
          "base_uri": "https://localhost:8080/",
          "height": 86
        },
        "outputId": "3c72a99e-9393-4b88-8d62-aaf8a06141c4"
      },
      "cell_type": "code",
      "source": [
        "a = [1,2,3]\n",
        "b = [4,5,6]\n",
        "print(a+b)\n",
        "\n",
        "c = ['L','e','e']\n",
        "d = ['이희성은 바보다']\n",
        "print(c+d)\n",
        "\n",
        "print(a+c)\n",
        "print(b+d)"
      ],
      "execution_count": 12,
      "outputs": [
        {
          "output_type": "stream",
          "text": [
            "[1, 2, 3, 4, 5, 6]\n",
            "['L', 'e', 'e', '이희성은 바보다']\n",
            "[1, 2, 3, 'L', 'e', 'e']\n",
            "[4, 5, 6, '이희성은 바보다']\n"
          ],
          "name": "stdout"
        }
      ]
    },
    {
      "metadata": {
        "id": "deNuYUKAnwke",
        "colab_type": "text"
      },
      "cell_type": "markdown",
      "source": [
        "## 리스트 반복하기(*)"
      ]
    },
    {
      "metadata": {
        "id": "wsAyvKrRnwhl",
        "colab_type": "code",
        "colab": {
          "base_uri": "https://localhost:8080/",
          "height": 138
        },
        "outputId": "5ebfc07f-f560-44e5-b25b-f4ea3265e76a"
      },
      "cell_type": "code",
      "source": [
        "a = [1,2,3]\n",
        "b = ['H','e','l','l']\n",
        "c = [\"All work and no play makes Jack a dull boy\"]\n",
        "\n",
        "print(a*3)\n",
        "print(b*3)\n",
        "print(c*3)\n",
        "\n",
        "print(a*3+b*2+3*c) # 약간 뒤죽박죽이어도 파이썬은 잘 인식한다."
      ],
      "execution_count": 17,
      "outputs": [
        {
          "output_type": "stream",
          "text": [
            "[1, 2, 3, 1, 2, 3, 1, 2, 3]\n",
            "['H', 'e', 'l', 'l', 'H', 'e', 'l', 'l', 'H', 'e', 'l', 'l']\n",
            "['All work and no play makes Jack a dull boy', 'All work and no play makes Jack a dull boy', 'All work and no play makes Jack a dull boy']\n",
            "[1, 2, 3, 1, 2, 3, 1, 2, 3, 'H', 'e', 'l', 'l', 'H', 'e', 'l', 'l', 'All work and no play makes Jack a dull boy', 'All work and no play makes Jack a dull boy', 'All work and no play makes Jack a dull boy']\n"
          ],
          "name": "stdout"
        }
      ]
    },
    {
      "metadata": {
        "id": "2Nk6Dp7RnweA",
        "colab_type": "text"
      },
      "cell_type": "markdown",
      "source": [
        "## 리스트 길이 구하기\n",
        "\n",
        "len()  함수를 씁시다."
      ]
    },
    {
      "metadata": {
        "id": "s0XbNeNTnwZ_",
        "colab_type": "code",
        "colab": {
          "base_uri": "https://localhost:8080/",
          "height": 34
        },
        "outputId": "2c1c5c0e-7540-4761-abd1-55a3859deb1d"
      },
      "cell_type": "code",
      "source": [
        "Jack = [\"All work and no play\",\"makes\",\"Jack a dull boy\"]\n",
        "\n",
        "print(len(Jack))"
      ],
      "execution_count": 19,
      "outputs": [
        {
          "output_type": "stream",
          "text": [
            "3\n"
          ],
          "name": "stdout"
        }
      ]
    },
    {
      "metadata": {
        "id": "mypGLEQQnwWp",
        "colab_type": "text"
      },
      "cell_type": "markdown",
      "source": [
        "## 초보자가 범하기 쉬운 리스트 연산 오류\n",
        "\n",
        "**정수와 문자열은 서로 더할 수 없다!**"
      ]
    },
    {
      "metadata": {
        "id": "LJA11S7csdkv",
        "colab_type": "code",
        "colab": {
          "base_uri": "https://localhost:8080/",
          "height": 283
        },
        "outputId": "29855880-c295-4c58-8194-fe67658b37e6"
      },
      "cell_type": "code",
      "source": [
        "a = [1,2,3]\n",
        "\n",
        "print(a[2]+\"hello\")"
      ],
      "execution_count": 20,
      "outputs": [
        {
          "output_type": "error",
          "ename": "TypeError",
          "evalue": "ignored",
          "traceback": [
            "\u001b[0;31m---------------------------------------------------------------------------\u001b[0m",
            "\u001b[0;31mTypeError\u001b[0m                                 Traceback (most recent call last)",
            "\u001b[0;32m<ipython-input-20-bedf2831e718>\u001b[0m in \u001b[0;36m<module>\u001b[0;34m()\u001b[0m\n\u001b[1;32m      1\u001b[0m \u001b[0ma\u001b[0m \u001b[0;34m=\u001b[0m \u001b[0;34m[\u001b[0m\u001b[0;36m1\u001b[0m\u001b[0;34m,\u001b[0m\u001b[0;36m2\u001b[0m\u001b[0;34m,\u001b[0m\u001b[0;36m3\u001b[0m\u001b[0;34m]\u001b[0m\u001b[0;34m\u001b[0m\u001b[0;34m\u001b[0m\u001b[0m\n\u001b[1;32m      2\u001b[0m \u001b[0;34m\u001b[0m\u001b[0m\n\u001b[0;32m----> 3\u001b[0;31m \u001b[0mprint\u001b[0m\u001b[0;34m(\u001b[0m\u001b[0ma\u001b[0m\u001b[0;34m[\u001b[0m\u001b[0;36m2\u001b[0m\u001b[0;34m]\u001b[0m\u001b[0;34m+\u001b[0m\u001b[0;34m\"hello\"\u001b[0m\u001b[0;34m)\u001b[0m\u001b[0;34m\u001b[0m\u001b[0;34m\u001b[0m\u001b[0m\n\u001b[0m",
            "\u001b[0;31mTypeError\u001b[0m: unsupported operand type(s) for +: 'int' and 'str'"
          ]
        }
      ]
    },
    {
      "metadata": {
        "id": "5pBQU2yJsd86",
        "colab_type": "text"
      },
      "cell_type": "markdown",
      "source": [
        "만약, 숫자와 문자열을 더해서 '3hello'처럼 만들고 싶다면 숫자 3을 문자 3으로 바꿔야 한다."
      ]
    },
    {
      "metadata": {
        "id": "vL_9EY36sd5Z",
        "colab_type": "code",
        "colab": {
          "base_uri": "https://localhost:8080/",
          "height": 34
        },
        "outputId": "c729eaee-b67a-48eb-d581-2a510c48fa5b"
      },
      "cell_type": "code",
      "source": [
        "a = [1,2,3]\n",
        "\n",
        "print(str(a[2])+\"Hell\")"
      ],
      "execution_count": 21,
      "outputs": [
        {
          "output_type": "stream",
          "text": [
            "3Hell\n"
          ],
          "name": "stdout"
        }
      ]
    },
    {
      "metadata": {
        "id": "01pW7iBbsd2i",
        "colab_type": "text"
      },
      "cell_type": "markdown",
      "source": [
        "# 리스트의 수정과 삭제"
      ]
    },
    {
      "metadata": {
        "id": "Xo6E-8I-sdzJ",
        "colab_type": "text"
      },
      "cell_type": "markdown",
      "source": [
        "## 리스트에서 값 수정하기"
      ]
    },
    {
      "metadata": {
        "id": "sgx3zz4Ssdus",
        "colab_type": "code",
        "colab": {
          "base_uri": "https://localhost:8080/",
          "height": 51
        },
        "outputId": "782fb1bc-ee1e-4bd1-953e-4adcec4b54e8"
      },
      "cell_type": "code",
      "source": [
        "a = [1,2,3]\n",
        "print(a)\n",
        "\n",
        "a[2] = 4\n",
        "print(a)"
      ],
      "execution_count": 23,
      "outputs": [
        {
          "output_type": "stream",
          "text": [
            "[1, 2, 3]\n",
            "[1, 2, 4]\n"
          ],
          "name": "stdout"
        }
      ]
    },
    {
      "metadata": {
        "id": "f5mkiykKsdrt",
        "colab_type": "text"
      },
      "cell_type": "markdown",
      "source": [
        "## del 함수 사용해 리스트 요소 삭제하기\n",
        "\n",
        "**del 객체** : 객체란 파이썬에서 사용되는 모든 자료형을 말한다."
      ]
    },
    {
      "metadata": {
        "id": "IAiv7TXEsdg5",
        "colab_type": "code",
        "colab": {
          "base_uri": "https://localhost:8080/",
          "height": 51
        },
        "outputId": "0d440be9-7043-4a71-8462-7142f5ab71e4"
      },
      "cell_type": "code",
      "source": [
        "a = [1,2,3]\n",
        "print(a)\n",
        "\n",
        "del a[1]\n",
        "print(a)"
      ],
      "execution_count": 24,
      "outputs": [
        {
          "output_type": "stream",
          "text": [
            "[1, 2, 3]\n",
            "[1, 3]\n"
          ],
          "name": "stdout"
        }
      ]
    },
    {
      "metadata": {
        "id": "gELWmZdEuxHL",
        "colab_type": "text"
      },
      "cell_type": "markdown",
      "source": [
        "*리스트 요소들을 삭제하는 방법에는 2가지가 더 있다. remove와 pop 함수이다.*"
      ]
    },
    {
      "metadata": {
        "id": "fKZyiTjIuxPT",
        "colab_type": "text"
      },
      "cell_type": "markdown",
      "source": [
        "# 리스트 관련 함수들\n",
        "\n",
        "리스트 변수명 뒤에 '.'를 붙여서 여러가지 리스트 관련 함수들을 이용할 수 있다."
      ]
    },
    {
      "metadata": {
        "id": "3BHACvrkwN-L",
        "colab_type": "text"
      },
      "cell_type": "markdown",
      "source": [
        "## 리스트에 요소 추가(append)\n",
        "\n",
        "append(x)는 리스트의 맨 마지막에 x를 추가시키는 함수이다."
      ]
    },
    {
      "metadata": {
        "id": "dW7_4OdxwN69",
        "colab_type": "code",
        "colab": {
          "base_uri": "https://localhost:8080/",
          "height": 51
        },
        "outputId": "e1177dcd-0457-437f-d3a2-e1fde88e53cb"
      },
      "cell_type": "code",
      "source": [
        "a = [1,2,3]\n",
        "print(a)\n",
        "\n",
        "a.append(100)\n",
        "print(a)"
      ],
      "execution_count": 25,
      "outputs": [
        {
          "output_type": "stream",
          "text": [
            "[1, 2, 3]\n",
            "[1, 2, 3, 100]\n"
          ],
          "name": "stdout"
        }
      ]
    },
    {
      "metadata": {
        "id": "nHEWfTnmwN37",
        "colab_type": "text"
      },
      "cell_type": "markdown",
      "source": [
        "리스트 안에는 어떤 자료형도 추가할 수 있다.\n",
        "\n",
        "아래의 예는 리스트에 다시 리스트를 추가한 결과이다. "
      ]
    },
    {
      "metadata": {
        "id": "wm8V-0s-wN0x",
        "colab_type": "code",
        "colab": {
          "base_uri": "https://localhost:8080/",
          "height": 51
        },
        "outputId": "8873fbeb-96dd-4c6d-d2a5-c35cae7fb005"
      },
      "cell_type": "code",
      "source": [
        "a = [1,2,3]\n",
        "print(a)\n",
        "\n",
        "a.append([5,6,7,8])\n",
        "print(a)"
      ],
      "execution_count": 26,
      "outputs": [
        {
          "output_type": "stream",
          "text": [
            "[1, 2, 3]\n",
            "[1, 2, 3, [5, 6, 7, 8]]\n"
          ],
          "name": "stdout"
        }
      ]
    },
    {
      "metadata": {
        "id": "-XHuPQy1wNxc",
        "colab_type": "text"
      },
      "cell_type": "markdown",
      "source": [
        "## 리스트 정렬(sort)\n",
        "\n",
        "sort 함수는 리스트의 요소를 순서대로 정렬해준다."
      ]
    },
    {
      "metadata": {
        "id": "8LzIKp-TwNuP",
        "colab_type": "code",
        "colab": {
          "base_uri": "https://localhost:8080/",
          "height": 171
        },
        "outputId": "ee5301f1-75b4-4b60-f5cf-5996d46bef83"
      },
      "cell_type": "code",
      "source": [
        "a = [1,10,2,5,6,8,4,3,7,9]\n",
        "print(a)\n",
        "print(type(a))\n",
        "\n",
        "a.sort()\n",
        "print(a)\n",
        "\n",
        "b = a.sort()\n",
        "c = a.sort(reverse=True)\n",
        "print(type(b))\n",
        "print(type(c))\n",
        "\n",
        "print(a.sort())\n",
        "print(a.sort(reverse=True))\n",
        "\n",
        "print(b)\n",
        "print(c)\n",
        "\n",
        "# sort() 메소드는 반환하지 않는다!"
      ],
      "execution_count": 40,
      "outputs": [
        {
          "output_type": "stream",
          "text": [
            "[1, 10, 2, 5, 6, 8, 4, 3, 7, 9]\n",
            "<class 'list'>\n",
            "[1, 2, 3, 4, 5, 6, 7, 8, 9, 10]\n",
            "<class 'NoneType'>\n",
            "<class 'NoneType'>\n",
            "None\n",
            "None\n",
            "None\n",
            "None\n"
          ],
          "name": "stdout"
        }
      ]
    },
    {
      "metadata": {
        "id": "jY2_xKQ5wNqq",
        "colab_type": "code",
        "colab": {
          "base_uri": "https://localhost:8080/",
          "height": 86
        },
        "outputId": "9386ed6f-b50b-4a58-8db5-a24f80c26ba7"
      },
      "cell_type": "code",
      "source": [
        "a = [1,10,2,5,6,8,4,3,7,9]\n",
        "print(a)\n",
        "\n",
        "b = a\n",
        "print(b)\n",
        "\n",
        "a.sort()\n",
        "print(a)\n",
        "print(b)\n",
        "\n",
        "# a의 값을 복사한게 아니라 가져온 것이다!\n",
        "# 그래서 a를 정렬하고서 b를 출력하면 리스트 b 역시 정렬된 상태이다."
      ],
      "execution_count": 43,
      "outputs": [
        {
          "output_type": "stream",
          "text": [
            "[1, 10, 2, 5, 6, 8, 4, 3, 7, 9]\n",
            "[1, 10, 2, 5, 6, 8, 4, 3, 7, 9]\n",
            "[1, 2, 3, 4, 5, 6, 7, 8, 9, 10]\n",
            "[1, 2, 3, 4, 5, 6, 7, 8, 9, 10]\n"
          ],
          "name": "stdout"
        }
      ]
    },
    {
      "metadata": {
        "id": "xsHQraGvsdcc",
        "colab_type": "code",
        "colab": {
          "base_uri": "https://localhost:8080/",
          "height": 154
        },
        "outputId": "7651e075-15de-4a8a-f08c-4d6b319a7fe5"
      },
      "cell_type": "code",
      "source": [
        "a = [1,10,2,6,3,5,8,9,7,4]\n",
        "b = a.copy()\n",
        "\n",
        "print(a)\n",
        "print(b)\n",
        "\n",
        "# 주소값 확인\n",
        "print(id(a))\n",
        "print(id(b))\n",
        "\n",
        "a.sort()\n",
        "print(a)\n",
        "print(b)\n",
        "\n",
        "# 역순 정렬\n",
        "b.sort(reverse=True)\n",
        "print(a)\n",
        "print(b)"
      ],
      "execution_count": 46,
      "outputs": [
        {
          "output_type": "stream",
          "text": [
            "[1, 10, 2, 6, 3, 5, 8, 9, 7, 4]\n",
            "[1, 10, 2, 6, 3, 5, 8, 9, 7, 4]\n",
            "139749129196808\n",
            "139749129198216\n",
            "[1, 2, 3, 4, 5, 6, 7, 8, 9, 10]\n",
            "[1, 10, 2, 6, 3, 5, 8, 9, 7, 4]\n",
            "[1, 2, 3, 4, 5, 6, 7, 8, 9, 10]\n",
            "[10, 9, 8, 7, 6, 5, 4, 3, 2, 1]\n"
          ],
          "name": "stdout"
        }
      ]
    },
    {
      "metadata": {
        "id": "1v8HlDrn3DEE",
        "colab_type": "text"
      },
      "cell_type": "markdown",
      "source": [
        "## 리스트 뒤집기(reverse)\n",
        "\n",
        "리스트를 역순으로 뒤집어준다. **정렬하는 것이 아니라 그저 현재의 리스트를 그대로 거꾸로 뒤집는다!**"
      ]
    },
    {
      "metadata": {
        "id": "EgkTeVnF3C_8",
        "colab_type": "code",
        "colab": {
          "base_uri": "https://localhost:8080/",
          "height": 51
        },
        "outputId": "57aa9710-f692-4646-fdca-0cd4cdd45c56"
      },
      "cell_type": "code",
      "source": [
        "a = [20,17,3,4,8,2,1]\n",
        "b = ['H','E','L','L']\n",
        "\n",
        "a.reverse()\n",
        "b.reverse()\n",
        "\n",
        "print(a)\n",
        "print(b)"
      ],
      "execution_count": 47,
      "outputs": [
        {
          "output_type": "stream",
          "text": [
            "[1, 2, 8, 4, 3, 17, 20]\n",
            "['L', 'L', 'E', 'H']\n"
          ],
          "name": "stdout"
        }
      ]
    },
    {
      "metadata": {
        "id": "h1HMbl4G3C8H",
        "colab_type": "text"
      },
      "cell_type": "markdown",
      "source": [
        "## 위치 반환(index)\n",
        "\n",
        "index(y)는 리스트에 y 값이 있다면 y의 위치값을 리턴한다."
      ]
    },
    {
      "metadata": {
        "id": "s-YbtJCv3C3-",
        "colab_type": "code",
        "colab": {
          "base_uri": "https://localhost:8080/",
          "height": 51
        },
        "outputId": "01c2f0c9-d73d-4a5f-cad7-6ea92b24187f"
      },
      "cell_type": "code",
      "source": [
        "a = [1,2,3,10,100,1000]\n",
        "\n",
        "print(a.index(10))\n",
        "print(a.index(100))\n",
        "\n",
        "# 얘는 반환도 해주네!"
      ],
      "execution_count": 49,
      "outputs": [
        {
          "output_type": "stream",
          "text": [
            "3\n",
            "4\n"
          ],
          "name": "stdout"
        }
      ]
    },
    {
      "metadata": {
        "id": "8I_Rrc-G7mxb",
        "colab_type": "code",
        "colab": {
          "base_uri": "https://localhost:8080/",
          "height": 199
        },
        "outputId": "48c7e2ca-0853-485a-a1d7-2fc446a16f6a"
      },
      "cell_type": "code",
      "source": [
        "# 리스트에 값이 없을 때 발생하는 오류\n",
        "\n",
        "a = [1,2,3,10,100,1000]\n",
        "\n",
        "print(a.index(500))"
      ],
      "execution_count": 51,
      "outputs": [
        {
          "output_type": "error",
          "ename": "ValueError",
          "evalue": "ignored",
          "traceback": [
            "\u001b[0;31m---------------------------------------------------------------------------\u001b[0m",
            "\u001b[0;31mValueError\u001b[0m                                Traceback (most recent call last)",
            "\u001b[0;32m<ipython-input-51-46d77583b4c1>\u001b[0m in \u001b[0;36m<module>\u001b[0;34m()\u001b[0m\n\u001b[1;32m      2\u001b[0m \u001b[0ma\u001b[0m \u001b[0;34m=\u001b[0m \u001b[0;34m[\u001b[0m\u001b[0;36m1\u001b[0m\u001b[0;34m,\u001b[0m\u001b[0;36m2\u001b[0m\u001b[0;34m,\u001b[0m\u001b[0;36m3\u001b[0m\u001b[0;34m,\u001b[0m\u001b[0;36m10\u001b[0m\u001b[0;34m,\u001b[0m\u001b[0;36m100\u001b[0m\u001b[0;34m,\u001b[0m\u001b[0;36m1000\u001b[0m\u001b[0;34m]\u001b[0m\u001b[0;34m\u001b[0m\u001b[0;34m\u001b[0m\u001b[0m\n\u001b[1;32m      3\u001b[0m \u001b[0;34m\u001b[0m\u001b[0m\n\u001b[0;32m----> 4\u001b[0;31m \u001b[0mprint\u001b[0m\u001b[0;34m(\u001b[0m\u001b[0ma\u001b[0m\u001b[0;34m.\u001b[0m\u001b[0mindex\u001b[0m\u001b[0;34m(\u001b[0m\u001b[0;36m500\u001b[0m\u001b[0;34m)\u001b[0m\u001b[0;34m)\u001b[0m\u001b[0;34m\u001b[0m\u001b[0;34m\u001b[0m\u001b[0m\n\u001b[0m",
            "\u001b[0;31mValueError\u001b[0m: 500 is not in list"
          ]
        }
      ]
    },
    {
      "metadata": {
        "id": "pa1_sruT7nYt",
        "colab_type": "text"
      },
      "cell_type": "markdown",
      "source": [
        "## 리스트에 요소 삽입(insert)\n",
        "\n",
        "insert(a, b)는 리스트의 a번째 위치에 b를 삽입한다. **b 위치에 있던 원래 문자는 오른쪽으로 이동한다.**"
      ]
    },
    {
      "metadata": {
        "id": "stKh9Yrw7nUv",
        "colab_type": "code",
        "colab": {
          "base_uri": "https://localhost:8080/",
          "height": 51
        },
        "outputId": "5d7ce5c4-945a-45e0-af9f-71e6fe28ee11"
      },
      "cell_type": "code",
      "source": [
        "a = [1,2,3,4,5]\n",
        "print(a)\n",
        "\n",
        "a.insert(2, \"Jack a dull boy\")\n",
        "print(a)"
      ],
      "execution_count": 54,
      "outputs": [
        {
          "output_type": "stream",
          "text": [
            "[1, 2, 3, 4, 5]\n",
            "[1, 2, 'Jack a dull boy', 3, 4, 5]\n"
          ],
          "name": "stdout"
        }
      ]
    },
    {
      "metadata": {
        "id": "XxDQ5RdO7nRC",
        "colab_type": "code",
        "colab": {
          "base_uri": "https://localhost:8080/",
          "height": 51
        },
        "outputId": "a1c68da0-6f6a-4b57-9923-6b516815e32f"
      },
      "cell_type": "code",
      "source": [
        "b = ['H','E','L','L']\n",
        "print(b)\n",
        "\n",
        "b.insert(-2, 100)\n",
        "print(b)"
      ],
      "execution_count": 55,
      "outputs": [
        {
          "output_type": "stream",
          "text": [
            "['H', 'E', 'L', 'L']\n",
            "['H', 'E', 100, 'L', 'L']\n"
          ],
          "name": "stdout"
        }
      ]
    },
    {
      "metadata": {
        "id": "7Jiw9S9f7nMC",
        "colab_type": "text"
      },
      "cell_type": "markdown",
      "source": [
        "## 리스트 요소 제거(remove)\n",
        "\n",
        "remove(x)는 리스트에서 **첫 번째**로 나오는 x를 삭제한다."
      ]
    },
    {
      "metadata": {
        "id": "Kzz3QL-47nH3",
        "colab_type": "code",
        "colab": {
          "base_uri": "https://localhost:8080/",
          "height": 86
        },
        "outputId": "61903997-c8f6-4fce-bd9e-04644636cb6e"
      },
      "cell_type": "code",
      "source": [
        "a = [1,2,3,4,5]\n",
        "print(a)\n",
        "\n",
        "a *= 3\n",
        "print(a)\n",
        "\n",
        "#print(a.remove(4)) # remove()는 반환하지 않음\n",
        "a.remove(4)\n",
        "print(a)\n",
        "\n",
        "a.remove(4)\n",
        "print(a)"
      ],
      "execution_count": 60,
      "outputs": [
        {
          "output_type": "stream",
          "text": [
            "[1, 2, 3, 4, 5]\n",
            "[1, 2, 3, 4, 5, 1, 2, 3, 4, 5, 1, 2, 3, 4, 5]\n",
            "[1, 2, 3, 5, 1, 2, 3, 4, 5, 1, 2, 3, 4, 5]\n",
            "[1, 2, 3, 5, 1, 2, 3, 5, 1, 2, 3, 4, 5]\n"
          ],
          "name": "stdout"
        }
      ]
    },
    {
      "metadata": {
        "id": "p92xy3WW7nC3",
        "colab_type": "text"
      },
      "cell_type": "markdown",
      "source": [
        "## 리스트 요소 끄집어내기(pop)\n",
        "\n",
        "pop()은 리스트의 맨 마지막 요소를 돌려주고 그 요소는 삭제하는 함수다.\n",
        "\n",
        "pop(x)는 리스트의 x번째 요소를 돌려주고 그 요소는 삭제한다."
      ]
    },
    {
      "metadata": {
        "id": "nCKMTFLE7m-M",
        "colab_type": "code",
        "colab": {
          "base_uri": "https://localhost:8080/",
          "height": 103
        },
        "outputId": "a6754d71-b58f-47ed-90a9-2d9430363c77"
      },
      "cell_type": "code",
      "source": [
        "a = [1,2,3,4,5,6]\n",
        "print(a)\n",
        "\n",
        "print(a.pop()) # pop()은 반환해준다.\n",
        "print(a)\n",
        "\n",
        "print(a.pop(0))\n",
        "print(a)"
      ],
      "execution_count": 67,
      "outputs": [
        {
          "output_type": "stream",
          "text": [
            "[1, 2, 3, 4, 5, 6]\n",
            "6\n",
            "[1, 2, 3, 4, 5]\n",
            "1\n",
            "[2, 3, 4, 5]\n"
          ],
          "name": "stdout"
        }
      ]
    },
    {
      "metadata": {
        "id": "LCkug3HX3Cz2",
        "colab_type": "code",
        "colab": {
          "base_uri": "https://localhost:8080/",
          "height": 103
        },
        "outputId": "0558130b-8fd8-45c5-ae2c-79780fbf99df"
      },
      "cell_type": "code",
      "source": [
        "b = [1,2,3,\"Jack a dull boy\"]\n",
        "print(b)\n",
        "\n",
        "print(b.pop(3))\n",
        "print(b)\n",
        "\n",
        "print(b.pop())\n",
        "print(b)"
      ],
      "execution_count": 66,
      "outputs": [
        {
          "output_type": "stream",
          "text": [
            "[1, 2, 3, 'Jack a dull boy']\n",
            "Jack a dull boy\n",
            "[1, 2, 3]\n",
            "3\n",
            "[1, 2]\n"
          ],
          "name": "stdout"
        }
      ]
    },
    {
      "metadata": {
        "id": "ar8m6R713Cvr",
        "colab_type": "text"
      },
      "cell_type": "markdown",
      "source": [
        "## 리스트에 포함된 요소 x의 개수 세기(count)\n",
        "\n",
        "count(x)는 리스트 내에 x가 몇 개 있는지 조사하여 그 개수를 돌려준다."
      ]
    },
    {
      "metadata": {
        "id": "YpbkjgPL3Crp",
        "colab_type": "code",
        "colab": {
          "base_uri": "https://localhost:8080/",
          "height": 34
        },
        "outputId": "27260aa6-9343-46a5-946c-9f8e4c3786ba"
      },
      "cell_type": "code",
      "source": [
        "a = [1,1,1,1,1,1,1,1,1,1]\n",
        "\n",
        "print(a.count(1))"
      ],
      "execution_count": 68,
      "outputs": [
        {
          "output_type": "stream",
          "text": [
            "10\n"
          ],
          "name": "stdout"
        }
      ]
    },
    {
      "metadata": {
        "id": "cMYDAuGg3CnB",
        "colab_type": "text"
      },
      "cell_type": "markdown",
      "source": [
        "## 리스트 확장(extend)\n",
        "\n",
        "extend(x)에서 x에는 리스트만 올 수 있으며 원래의 리스트에 x 리스트를 더하는 것이다."
      ]
    },
    {
      "metadata": {
        "id": "SiJQ3ABA3CiA",
        "colab_type": "code",
        "colab": {
          "base_uri": "https://localhost:8080/",
          "height": 86
        },
        "outputId": "7798be16-a26a-4340-f9bd-c23a440783a2"
      },
      "cell_type": "code",
      "source": [
        "a = [1,2,3]\n",
        "print(a)\n",
        "\n",
        "a.extend([10,100,1000])\n",
        "print(a)\n",
        "\n",
        "a += [10,100,1000]\n",
        "print(a)\n",
        "\n",
        "b = ['H','e','l','L']\n",
        "a.extend(b)\n",
        "print(a)"
      ],
      "execution_count": 70,
      "outputs": [
        {
          "output_type": "stream",
          "text": [
            "[1, 2, 3]\n",
            "[1, 2, 3, 10, 100, 1000]\n",
            "[1, 2, 3, 10, 100, 1000, 10, 100, 1000]\n",
            "[1, 2, 3, 10, 100, 1000, 10, 100, 1000, 'H', 'e', 'l', 'L']\n"
          ],
          "name": "stdout"
        }
      ]
    },
    {
      "metadata": {
        "id": "3PHpxBWKFj4u",
        "colab_type": "text"
      },
      "cell_type": "markdown",
      "source": [
        "a.extend([10, 100, 1000])은 a += [10, 100, 1000]과 동일하다."
      ]
    },
    {
      "metadata": {
        "id": "cBDR09mdFj00",
        "colab_type": "text"
      },
      "cell_type": "markdown",
      "source": [
        "# 연습문제"
      ]
    },
    {
      "metadata": {
        "id": "zahqgCcNFjxA",
        "colab_type": "text"
      },
      "cell_type": "markdown",
      "source": [
        "## Q1. 리스트 조인\n",
        "\n",
        "['Life', 'is', 'too', 'long']라는 리스트를 Life is too long라는 문자열로 만들어 출력하라.\n",
        "\n",
        "*Hint. 문자열의 join 함수를 이용하라.*"
      ]
    },
    {
      "metadata": {
        "id": "5ctTLomUFjs0",
        "colab_type": "code",
        "colab": {}
      },
      "cell_type": "code",
      "source": [
        ""
      ],
      "execution_count": 0,
      "outputs": []
    },
    {
      "metadata": {
        "id": "CzMEXwwRHXcE",
        "colab_type": "text"
      },
      "cell_type": "markdown",
      "source": [
        "## Q2. 리스트 정렬\n",
        "\n",
        "[1, 3, 5, 4, 2]라는 리스트를 [5, 4, 3, 2, 1]로 만들라.\n",
        "\n",
        "*Hint. sort와 reverse를 이용하라.*"
      ]
    },
    {
      "metadata": {
        "id": "fxaIZQuFFjoJ",
        "colab_type": "code",
        "colab": {}
      },
      "cell_type": "code",
      "source": [
        ""
      ],
      "execution_count": 0,
      "outputs": []
    }
  ]
}