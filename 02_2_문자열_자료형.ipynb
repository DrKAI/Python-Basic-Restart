{
  "nbformat": 4,
  "nbformat_minor": 0,
  "metadata": {
    "colab": {
      "name": "02-2 문자열 자료형.ipynb",
      "version": "0.3.2",
      "provenance": [],
      "collapsed_sections": [],
      "include_colab_link": true
    },
    "kernelspec": {
      "name": "python3",
      "display_name": "Python 3"
    }
  },
  "cells": [
    {
      "cell_type": "markdown",
      "metadata": {
        "id": "view-in-github",
        "colab_type": "text"
      },
      "source": [
        "<a href=\"https://colab.research.google.com/github/DrKAI/Python-Basic-Restart/blob/master/02_2_%EB%AC%B8%EC%9E%90%EC%97%B4_%EC%9E%90%EB%A3%8C%ED%98%95.ipynb\" target=\"_parent\"><img src=\"https://colab.research.google.com/assets/colab-badge.svg\" alt=\"Open In Colab\"/></a>"
      ]
    },
    {
      "metadata": {
        "id": "NG6K4sCw1-f5",
        "colab_type": "text"
      },
      "cell_type": "markdown",
      "source": [
        "# 문자열이란?\n",
        "\n",
        "문자열(String)이란 문자, 단어 등으로 구성된 문자들의 집합을 의미한다.\n",
        "\n",
        "---\n",
        "\n",
        "\"Life is too short, You need Python\"\n",
        "\n",
        "\"a\"\n",
        "\n",
        "\"123\"\n",
        "\n",
        "---\n",
        "\n",
        "123은 숫자인데 왜 문자열이냐? 의문이 들 것이다. 따옴표에 둘러싸여 있으면 모두 문자열이라 보면 된다."
      ]
    },
    {
      "metadata": {
        "id": "caXN9Pre38gw",
        "colab_type": "text"
      },
      "cell_type": "markdown",
      "source": [
        ""
      ]
    },
    {
      "metadata": {
        "id": "p6Fy3EBN2AxN",
        "colab_type": "text"
      },
      "cell_type": "markdown",
      "source": [
        "# 문자열은 어떻게 만들고 사용할까?\n",
        "\n",
        "문자열 만드는 방법은 큰 따옴표 외에도 3가지가 더 있다. 총 4가지이다. "
      ]
    },
    {
      "metadata": {
        "id": "z7yPBHwp2Az4",
        "colab_type": "text"
      },
      "cell_type": "markdown",
      "source": [
        "### 1. 큰 따옴표로 양 쪽 둘러싸기"
      ]
    },
    {
      "metadata": {
        "id": "_S8u0mfX2A2V",
        "colab_type": "code",
        "colab": {
          "base_uri": "https://localhost:8080/",
          "height": 35
        },
        "outputId": "60d2e367-289c-4b66-a493-015e018fab5e"
      },
      "cell_type": "code",
      "source": [
        "\"Hell Chosun\""
      ],
      "execution_count": 1,
      "outputs": [
        {
          "output_type": "execute_result",
          "data": {
            "text/plain": [
              "'Hell Chosun'"
            ]
          },
          "metadata": {
            "tags": []
          },
          "execution_count": 1
        }
      ]
    },
    {
      "metadata": {
        "id": "5TWg3uXT2A4-",
        "colab_type": "text"
      },
      "cell_type": "markdown",
      "source": [
        "### 2. 작은 따옴표로 양 쪽 둘러싸기"
      ]
    },
    {
      "metadata": {
        "id": "MnEil5yc2A7g",
        "colab_type": "code",
        "colab": {
          "base_uri": "https://localhost:8080/",
          "height": 35
        },
        "outputId": "8cd36d6a-1222-4edb-a1e8-27c7641158d3"
      },
      "cell_type": "code",
      "source": [
        "'C and Java is Suck'"
      ],
      "execution_count": 2,
      "outputs": [
        {
          "output_type": "execute_result",
          "data": {
            "text/plain": [
              "'C and Java is Suck'"
            ]
          },
          "metadata": {
            "tags": []
          },
          "execution_count": 2
        }
      ]
    },
    {
      "metadata": {
        "id": "TFhHKU5d2A-L",
        "colab_type": "text"
      },
      "cell_type": "markdown",
      "source": [
        "### 3. 큰 따옴표 3개를 연속으로 써서 양 쪽 둘러싸기"
      ]
    },
    {
      "metadata": {
        "id": "Ujeg9NXC2BAr",
        "colab_type": "code",
        "colab": {}
      },
      "cell_type": "code",
      "source": [
        "\"\"\"Life is short\"\"\""
      ],
      "execution_count": 0,
      "outputs": []
    },
    {
      "metadata": {
        "id": "OAhu79a42BDQ",
        "colab_type": "text"
      },
      "cell_type": "markdown",
      "source": [
        "### 4. 작은 따옴표 3개를 연속으로 써서 양 쪽 둘러싸기"
      ]
    },
    {
      "metadata": {
        "id": "SsBboBzQ2BF6",
        "colab_type": "code",
        "colab": {}
      },
      "cell_type": "code",
      "source": [
        "'''You do not need Python'''"
      ],
      "execution_count": 0,
      "outputs": []
    },
    {
      "metadata": {
        "id": "iuxBXU5t2BIl",
        "colab_type": "text"
      },
      "cell_type": "markdown",
      "source": [
        "## 문자열 안에 작은 따옴표나 큰 따옴표를 포함시키고 싶을 때\n",
        "\n",
        "단순함이 모토인 파이썬에서 왜 문자열 생성 방법을 4가지나 두었을까? 바로 이 때문이다."
      ]
    },
    {
      "metadata": {
        "id": "IjrJrcxf2BLO",
        "colab_type": "text"
      },
      "cell_type": "markdown",
      "source": [
        "### 1. 문자열에 작은 따옴표(') 포함시키기\n",
        "\n",
        "Python's favorite food is perl\n",
        "\n",
        "위 문자열을 food라는 변수에 저장하고 싶다 가정하자. 여기에는 작은 따옴표가 포함되어 있다.\n",
        "\n",
        "이럴 때 큰 따옴표로 둘러싸면 작은 따옴표는 문자열을 나타내기 위한 기호로 인식되지 않는다."
      ]
    },
    {
      "metadata": {
        "id": "xMnxbYjf2BNt",
        "colab_type": "code",
        "colab": {
          "base_uri": "https://localhost:8080/",
          "height": 35
        },
        "outputId": "406661c2-a34d-4438-d017-2a016eb096c2"
      },
      "cell_type": "code",
      "source": [
        "food = \"Python's favorite food is perl\"\n",
        "\n",
        "print(food)"
      ],
      "execution_count": 3,
      "outputs": [
        {
          "output_type": "stream",
          "text": [
            "Python's favorite food is perl\n"
          ],
          "name": "stdout"
        }
      ]
    },
    {
      "metadata": {
        "id": "P_V2GtXG6vdh",
        "colab_type": "code",
        "colab": {
          "base_uri": "https://localhost:8080/",
          "height": 136
        },
        "outputId": "e34a3665-a4ca-4546-fc8f-a86217a1a9d8"
      },
      "cell_type": "code",
      "source": [
        "food = 'Python's favorite food is perl'\n",
        "\n",
        "print(food)"
      ],
      "execution_count": 4,
      "outputs": [
        {
          "output_type": "error",
          "ename": "SyntaxError",
          "evalue": "ignored",
          "traceback": [
            "\u001b[0;36m  File \u001b[0;32m\"<ipython-input-4-befc1fc88577>\"\u001b[0;36m, line \u001b[0;32m1\u001b[0m\n\u001b[0;31m    food = 'Python's favorite food is perl'\u001b[0m\n\u001b[0m                   ^\u001b[0m\n\u001b[0;31mSyntaxError\u001b[0m\u001b[0;31m:\u001b[0m invalid syntax\n"
          ]
        }
      ]
    },
    {
      "metadata": {
        "id": "IMb5oh3y2BQQ",
        "colab_type": "text"
      },
      "cell_type": "markdown",
      "source": [
        "### 2. 문자열에 큰 따옴표(\") 포함시키기\n",
        "\n",
        "\"Python is not very easy.\" he says.\n",
        "\n",
        "반대로 큰 따옴표가 포함된 문자열은 작은 따옴표로 둘러싸면 된다."
      ]
    },
    {
      "metadata": {
        "id": "cNFpAFbw6rW9",
        "colab_type": "code",
        "colab": {
          "base_uri": "https://localhost:8080/",
          "height": 35
        },
        "outputId": "217927ad-2158-4814-cfbd-4509c1e2ce80"
      },
      "cell_type": "code",
      "source": [
        "say = '\"Python is not very easy.\" he says.'\n",
        "\n",
        "print(say)"
      ],
      "execution_count": 6,
      "outputs": [
        {
          "output_type": "stream",
          "text": [
            "\"Python is not very easy.\" he says.\n"
          ],
          "name": "stdout"
        }
      ]
    },
    {
      "metadata": {
        "id": "XuPBh05p6rZv",
        "colab_type": "code",
        "colab": {
          "base_uri": "https://localhost:8080/",
          "height": 136
        },
        "outputId": "43b04b38-bb8d-491d-aadb-9d03ae8d19ed"
      },
      "cell_type": "code",
      "source": [
        "say = \"\"Python is not very easy.\" he says.\"\n",
        "\n",
        "print(say)"
      ],
      "execution_count": 7,
      "outputs": [
        {
          "output_type": "error",
          "ename": "SyntaxError",
          "evalue": "ignored",
          "traceback": [
            "\u001b[0;36m  File \u001b[0;32m\"<ipython-input-7-4e9802e09bb9>\"\u001b[0;36m, line \u001b[0;32m1\u001b[0m\n\u001b[0;31m    say = \"\"Python is not very easy.\" he says.\"\u001b[0m\n\u001b[0m                 ^\u001b[0m\n\u001b[0;31mSyntaxError\u001b[0m\u001b[0;31m:\u001b[0m invalid syntax\n"
          ]
        }
      ]
    },
    {
      "metadata": {
        "id": "4_hoHll76rcO",
        "colab_type": "text"
      },
      "cell_type": "markdown",
      "source": [
        "### 3. 백슬래시(\\\\)를 이용해서 작은 따옴표와 큰 따옴표를 문자열에 포함시키기"
      ]
    },
    {
      "metadata": {
        "id": "yH2Oe85o6reo",
        "colab_type": "text"
      },
      "cell_type": "markdown",
      "source": [
        "백슬래시(\\\\)를 작은 따옴표나 큰 따옴표 앞에 삽입하면 백슬래시 뒤의 작은 따옴표, 큰 따옴표는 문자열을 둘러싸는 기호의 의미가 아니라 문자 ', \" 그 자체를 뜻하게 된다."
      ]
    },
    {
      "metadata": {
        "id": "VEvzAwSt6rhO",
        "colab_type": "code",
        "colab": {
          "base_uri": "https://localhost:8080/",
          "height": 53
        },
        "outputId": "892cdac9-0aba-451b-9e8a-38287b60483a"
      },
      "cell_type": "code",
      "source": [
        "food = 'Python\\'s favorite food is perl'\n",
        "say = \"\\\"Python is not very easy.\\\" he says.\"\n",
        "\n",
        "print(food)\n",
        "print(say)"
      ],
      "execution_count": 8,
      "outputs": [
        {
          "output_type": "stream",
          "text": [
            "Python's favorite food is perl\n",
            "\"Python is not very easy.\" he says.\n"
          ],
          "name": "stdout"
        }
      ]
    },
    {
      "metadata": {
        "id": "9EfdR24F6rj4",
        "colab_type": "text"
      },
      "cell_type": "markdown",
      "source": [
        "## 여러 줄인 문자열을 변수에 대입하고 싶을 때\n",
        "\n",
        "문자열이 항상 한 줄만 있는 것은 아니다.\n",
        "\n",
        "---\n",
        "\n",
        "Life is too short\n",
        "\n",
        "You need Python\n",
        "\n",
        "---\n",
        "\n",
        "이런 경우 어떻게 처리해야 하나?"
      ]
    },
    {
      "metadata": {
        "id": "6MvSp5Hb6rmR",
        "colab_type": "text"
      },
      "cell_type": "markdown",
      "source": [
        "### 1. 줄을 바꾸기 위한 이스케이프 코드(\\n) 삽입하기\n",
        "\n",
        "읽기 불편하고 줄이 길어지는 단점이 있는 방식이다."
      ]
    },
    {
      "metadata": {
        "id": "xBY1bO4j6rou",
        "colab_type": "code",
        "colab": {
          "base_uri": "https://localhost:8080/",
          "height": 53
        },
        "outputId": "24f1128f-349f-4721-eaad-67929290fb25"
      },
      "cell_type": "code",
      "source": [
        "multiline = \"Life is too short\\nYou need Python\"\n",
        "\n",
        "print(multiline)"
      ],
      "execution_count": 11,
      "outputs": [
        {
          "output_type": "stream",
          "text": [
            "Life is too short\n",
            "You need Python\n"
          ],
          "name": "stdout"
        }
      ]
    },
    {
      "metadata": {
        "id": "F8Q4Bzom2BSb",
        "colab_type": "text"
      },
      "cell_type": "markdown",
      "source": [
        "### 2. 연속된 작은 따옴표 3개(''') or 큰 따옴표 3개(\"\"\") 이용"
      ]
    },
    {
      "metadata": {
        "id": "y1Yu2ZeiMgR_",
        "colab_type": "code",
        "colab": {
          "base_uri": "https://localhost:8080/",
          "height": 89
        },
        "outputId": "a0c09b00-9640-4438-90d4-e3a2a2a39f8f"
      },
      "cell_type": "code",
      "source": [
        "multiline = '''\n",
        "Life is too short\n",
        "You need Python\n",
        "'''\n",
        "\n",
        "print(multiline)"
      ],
      "execution_count": 12,
      "outputs": [
        {
          "output_type": "stream",
          "text": [
            "\n",
            "Life is too short\n",
            "You need Python\n",
            "\n"
          ],
          "name": "stdout"
        }
      ]
    },
    {
      "metadata": {
        "id": "xsURVCpiMgUe",
        "colab_type": "code",
        "colab": {
          "base_uri": "https://localhost:8080/",
          "height": 89
        },
        "outputId": "d66a61cb-a613-4111-9e87-c2a3af2da6c3"
      },
      "cell_type": "code",
      "source": [
        "multiline = \"\"\"\n",
        "Life is too short\n",
        "You need Python\n",
        "\"\"\"\n",
        "\n",
        "print(multiline)"
      ],
      "execution_count": 14,
      "outputs": [
        {
          "output_type": "stream",
          "text": [
            "\n",
            "Life is too short\n",
            "You need Python\n",
            "\n"
          ],
          "name": "stdout"
        }
      ]
    },
    {
      "metadata": {
        "id": "w7eklJ41MgXC",
        "colab_type": "text"
      },
      "cell_type": "markdown",
      "source": [
        "# 이스케이프 코드란?\n",
        "\n",
        "프로그래밍 할 때 사용할 수 있도록 미리 정의해 둔 문자 조합이다. 자주 쓰는 건 강조를 해놓았다.\n",
        "\n",
        "---\n",
        "\n",
        "**\\n 개행**\n",
        "\n",
        "**\\t 수평 탭**\n",
        "\n",
        "**\\\\\\ 문자 \"\\\\\"**\n",
        "\n",
        "**\\' 단일 인용부호 '**\n",
        "\n",
        "**\\\" 이중 인용부호 \"**\n",
        "\n",
        "\\r 캐리지 리턴\n",
        "\n",
        "\\f 폼 피드\n",
        "\n",
        "\\a 벨 소리\n",
        "\n",
        "\\b 백 스페이스\n",
        "\n",
        "\\000 널 문자\n",
        "\n",
        "---"
      ]
    },
    {
      "metadata": {
        "id": "zaLgb2UnMgZh",
        "colab_type": "text"
      },
      "cell_type": "markdown",
      "source": [
        "# 문자열 연산하기\n",
        "\n",
        "파이썬에서는 문자열을 더하거나 곱할 수 있다."
      ]
    },
    {
      "metadata": {
        "id": "LyoQQp1aMgcB",
        "colab_type": "text"
      },
      "cell_type": "markdown",
      "source": [
        "## 문자열 더해서 연결하기 (Concatenation)"
      ]
    },
    {
      "metadata": {
        "id": "qCu8uUhiMgeb",
        "colab_type": "code",
        "colab": {
          "base_uri": "https://localhost:8080/",
          "height": 35
        },
        "outputId": "fc57c51c-51a2-4909-dc9a-95d4a23996be"
      },
      "cell_type": "code",
      "source": [
        "head = \"Python\"\n",
        "tail = \" is not fun\"\n",
        "\n",
        "print(head + tail)"
      ],
      "execution_count": 15,
      "outputs": [
        {
          "output_type": "stream",
          "text": [
            "Python is not fun\n"
          ],
          "name": "stdout"
        }
      ]
    },
    {
      "metadata": {
        "id": "MESdIuaGMgg1",
        "colab_type": "text"
      },
      "cell_type": "markdown",
      "source": [
        "## 문자열 곱하기"
      ]
    },
    {
      "metadata": {
        "id": "WSZgawISMgjQ",
        "colab_type": "code",
        "colab": {
          "base_uri": "https://localhost:8080/",
          "height": 35
        },
        "outputId": "6d6e4682-2d6b-42f4-9aca-3a31437c0e29"
      },
      "cell_type": "code",
      "source": [
        "a = \"Python \"\n",
        "\n",
        "print(a * 5)"
      ],
      "execution_count": 17,
      "outputs": [
        {
          "output_type": "stream",
          "text": [
            "Python Python Python Python Python \n"
          ],
          "name": "stdout"
        }
      ]
    },
    {
      "metadata": {
        "id": "91v4GX_5QifY",
        "colab_type": "text"
      },
      "cell_type": "markdown",
      "source": [
        "## 문자열 곱하기 응용"
      ]
    },
    {
      "metadata": {
        "id": "8A2u1TPBQkhY",
        "colab_type": "code",
        "colab": {
          "base_uri": "https://localhost:8080/",
          "height": 71
        },
        "outputId": "1005606e-2dcc-4397-f948-e287048b0297"
      },
      "cell_type": "code",
      "source": [
        "# multistring.py\n",
        "\n",
        "print(\"=\"*30)\n",
        "print(\"My Program\")\n",
        "print(\"=\"*30)"
      ],
      "execution_count": 19,
      "outputs": [
        {
          "output_type": "stream",
          "text": [
            "==============================\n",
            "My Program\n",
            "==============================\n"
          ],
          "name": "stdout"
        }
      ]
    },
    {
      "metadata": {
        "id": "uHdi3c1UQkkE",
        "colab_type": "text"
      },
      "cell_type": "markdown",
      "source": [
        "## 문자열 길이 구하기\n",
        "\n",
        "len 함수를 이용하면 된다. print 함수처럼 파이썬 기본 내장 함수이다."
      ]
    },
    {
      "metadata": {
        "id": "Ah6oUMlOQkmj",
        "colab_type": "code",
        "colab": {
          "base_uri": "https://localhost:8080/",
          "height": 35
        },
        "outputId": "662cc23b-0585-4d25-8bfb-59dee2eec89a"
      },
      "cell_type": "code",
      "source": [
        "a = \"Life is too short\"\n",
        "\n",
        "print(len(a))"
      ],
      "execution_count": 20,
      "outputs": [
        {
          "output_type": "stream",
          "text": [
            "17\n"
          ],
          "name": "stdout"
        }
      ]
    },
    {
      "metadata": {
        "id": "CE4JVgr6QkpF",
        "colab_type": "text"
      },
      "cell_type": "markdown",
      "source": [
        "# 문자열 인덱싱과 슬라이싱\n",
        "\n",
        "인덱싱(Indexing)이란 무엇인가를 \"가리킨다\"는 의미고, 슬라이싱(Slicing)은 무엇인가를 \"잘라낸다\"는 의미이다."
      ]
    },
    {
      "metadata": {
        "id": "AkJK0fcuQkrj",
        "colab_type": "text"
      },
      "cell_type": "markdown",
      "source": [
        "## 문자열 인덱싱이란?"
      ]
    },
    {
      "metadata": {
        "id": "0LhLeaIQQkt8",
        "colab_type": "code",
        "colab": {
          "base_uri": "https://localhost:8080/",
          "height": 35
        },
        "outputId": "6e138b23-1d4f-4eb2-94a3-8bb7bff216dc"
      },
      "cell_type": "code",
      "source": [
        "a = \"Life is too short, You need Python\"\n",
        "\n",
        "print(a[3])"
      ],
      "execution_count": 21,
      "outputs": [
        {
          "output_type": "stream",
          "text": [
            "e\n"
          ],
          "name": "stdout"
        }
      ]
    },
    {
      "metadata": {
        "id": "IEa-PZ6PQkwj",
        "colab_type": "text"
      },
      "cell_type": "markdown",
      "source": [
        "a[3]이 뜻하는 것은 a라는 문자열의 네 번째 문자인 e를 말한다. 왜 a[3]이 네 번째 문자인지 의아할 수 있다.\n",
        "\n",
        "**\"파이썬은 0부터 숫자를 센다\"**\n",
        "\n",
        "고로, a[0] = L, a[1] = i, a[2] = f, a[3] = e, ...,\n",
        "\n",
        "이렇게 된다."
      ]
    },
    {
      "metadata": {
        "id": "STEI69qrQkzR",
        "colab_type": "text"
      },
      "cell_type": "markdown",
      "source": [
        "## 문자열 인덱싱 활용하기"
      ]
    },
    {
      "metadata": {
        "id": "o9TxLtPoURBN",
        "colab_type": "code",
        "colab": {
          "base_uri": "https://localhost:8080/",
          "height": 71
        },
        "outputId": "2d9febb0-d11a-4539-99b3-3aee20b2c9c4"
      },
      "cell_type": "code",
      "source": [
        "a = \"Life is too short, You need Python\"\n",
        "\n",
        "print(a[0])\n",
        "\n",
        "print(a[12])\n",
        "\n",
        "print(a[-1])"
      ],
      "execution_count": 23,
      "outputs": [
        {
          "output_type": "stream",
          "text": [
            "L\n",
            "s\n",
            "n\n"
          ],
          "name": "stdout"
        }
      ]
    },
    {
      "metadata": {
        "id": "YBWDhKhDURD8",
        "colab_type": "text"
      },
      "cell_type": "markdown",
      "source": [
        "a[-1]은 뭘까? 문자열을 뒤에서부터 읽기 위해서 마이너스(-) 기호를 붙이는 것이다.\n",
        "\n",
        "즉, a[-1]은 뒤에서부터 세어 첫 번째가 되는 문자를 뜻한다.\n",
        "\n",
        "어라? a[-0]이 뒤에서 첫 번째여야지 않아? 의문을 가질 수 있다. 하지만 0과 -0은 똑같지 않나. 그렇기에 a[-1]로 표기하는 것이다."
      ]
    },
    {
      "metadata": {
        "id": "YNKMMWRoURGb",
        "colab_type": "code",
        "colab": {
          "base_uri": "https://localhost:8080/",
          "height": 71
        },
        "outputId": "0cfb1666-b51a-4699-cd79-dfed17d832bb"
      },
      "cell_type": "code",
      "source": [
        "a = \"Life is too short, You need Python\"\n",
        "\n",
        "print(a[-0])\n",
        "\n",
        "print(a[-2])\n",
        "\n",
        "print(a[-5])"
      ],
      "execution_count": 24,
      "outputs": [
        {
          "output_type": "stream",
          "text": [
            "L\n",
            "o\n",
            "y\n"
          ],
          "name": "stdout"
        }
      ]
    },
    {
      "metadata": {
        "id": "tQ6mfLQKURI0",
        "colab_type": "text"
      },
      "cell_type": "markdown",
      "source": [
        "## 문자열 슬라이싱이란?\n",
        "\n",
        "문자열에서 문자 하나만 뽑아내는 것이 아니라, 단어를 뽑아낼 방법은 없을까?"
      ]
    },
    {
      "metadata": {
        "id": "lxAXCkL1URLe",
        "colab_type": "code",
        "colab": {
          "base_uri": "https://localhost:8080/",
          "height": 35
        },
        "outputId": "6f7f0723-aeb6-4b82-f70c-6bcedc91d043"
      },
      "cell_type": "code",
      "source": [
        "a = \"Life is too short, You need Python\"\n",
        "\n",
        "b = a[0]+a[1]+a[2]+a[3]\n",
        "\n",
        "print(b)"
      ],
      "execution_count": 25,
      "outputs": [
        {
          "output_type": "stream",
          "text": [
            "Life\n"
          ],
          "name": "stdout"
        }
      ]
    },
    {
      "metadata": {
        "id": "U_qUjGH4WXdD",
        "colab_type": "text"
      },
      "cell_type": "markdown",
      "source": [
        "위처럼 단순하게 접근할 수도 있지만, 파이썬에서는 더 좋은 방법을 제공한다. 슬라이싱 기법이다."
      ]
    },
    {
      "metadata": {
        "id": "-IvagcVzWXfs",
        "colab_type": "code",
        "colab": {
          "base_uri": "https://localhost:8080/",
          "height": 53
        },
        "outputId": "c232da72-938d-4cba-9dfd-62fc9bdbfe12"
      },
      "cell_type": "code",
      "source": [
        "a = \"Life is too short, You need Python\"\n",
        "\n",
        "print(a[0:4])\n",
        "\n",
        "print(a[0:3])"
      ],
      "execution_count": 27,
      "outputs": [
        {
          "output_type": "stream",
          "text": [
            "Life\n",
            "Lif\n"
          ],
          "name": "stdout"
        }
      ]
    },
    {
      "metadata": {
        "id": "OM9rgbzrWXio",
        "colab_type": "text"
      },
      "cell_type": "markdown",
      "source": [
        "**a[시작번호:끝번호]**\n",
        "\n",
        "**시작번호 <= a < 끝번호**"
      ]
    },
    {
      "metadata": {
        "id": "akBxwAUOWXk2",
        "colab_type": "text"
      },
      "cell_type": "markdown",
      "source": [
        "## 문자열을 슬라이싱하는 방법\n",
        "\n",
        "예를 더 살펴보자"
      ]
    },
    {
      "metadata": {
        "id": "mtnYxHCLWXm5",
        "colab_type": "code",
        "colab": {
          "base_uri": "https://localhost:8080/",
          "height": 35
        },
        "outputId": "358982f6-a60d-4fa0-acaa-3bb870b654e5"
      },
      "cell_type": "code",
      "source": [
        "a = \"Life is too short, You need Python\"\n",
        "\n",
        "print(a[0:5])"
      ],
      "execution_count": 28,
      "outputs": [
        {
          "output_type": "stream",
          "text": [
            "Life \n"
          ],
          "name": "stdout"
        }
      ]
    },
    {
      "metadata": {
        "id": "1W5Ihg92UROJ",
        "colab_type": "text"
      },
      "cell_type": "markdown",
      "source": [
        "공백문자 포함된 \"Life \"이다. \"Life\"와 \"Life \"는 완전히 다른 문자열이다."
      ]
    },
    {
      "metadata": {
        "id": "VvQNrjrwURQ_",
        "colab_type": "code",
        "colab": {
          "base_uri": "https://localhost:8080/",
          "height": 71
        },
        "outputId": "adf7a3fa-8c34-4d92-93e9-4b947d230f16"
      },
      "cell_type": "code",
      "source": [
        "a = \"Life is too short, You need Python\"\n",
        "\n",
        "print(a[0:2])\n",
        "\n",
        "print(a[5:7])\n",
        "\n",
        "print(a[12:17])"
      ],
      "execution_count": 29,
      "outputs": [
        {
          "output_type": "stream",
          "text": [
            "Li\n",
            "is\n",
            "short\n"
          ],
          "name": "stdout"
        }
      ]
    },
    {
      "metadata": {
        "id": "3gttSwxHXDoR",
        "colab_type": "text"
      },
      "cell_type": "markdown",
      "source": [
        "슬라이싱 할 때 시작 번호가 꼭 0일 필요는 없다."
      ]
    },
    {
      "metadata": {
        "id": "-Sk6bEaOURTk",
        "colab_type": "code",
        "colab": {
          "base_uri": "https://localhost:8080/",
          "height": 35
        },
        "outputId": "da2c48bc-d8bc-40f5-b8d8-963f2f49f4cc"
      },
      "cell_type": "code",
      "source": [
        "a = \"Life is too short, You need Python\"\n",
        "\n",
        "print(a[19:])"
      ],
      "execution_count": 31,
      "outputs": [
        {
          "output_type": "stream",
          "text": [
            "You need Python\n"
          ],
          "name": "stdout"
        }
      ]
    },
    {
      "metadata": {
        "id": "7xliCguDURWO",
        "colab_type": "text"
      },
      "cell_type": "markdown",
      "source": [
        "a[시작 번호:끝 번호]에서 끝 번호를 생략하면 시작 번호부터 그 문자열의 끝까지 뽑아낸다."
      ]
    },
    {
      "metadata": {
        "id": "Hb_b0k3VURZO",
        "colab_type": "code",
        "colab": {
          "base_uri": "https://localhost:8080/",
          "height": 35
        },
        "outputId": "9190ecf7-574b-43d9-f640-8452dd407f6e"
      },
      "cell_type": "code",
      "source": [
        "a = \"Life is too short, You need Python\"\n",
        "\n",
        "print(a[:17])"
      ],
      "execution_count": 33,
      "outputs": [
        {
          "output_type": "stream",
          "text": [
            "Life is too short\n"
          ],
          "name": "stdout"
        }
      ]
    },
    {
      "metadata": {
        "id": "MW3ZiFl8URbz",
        "colab_type": "text"
      },
      "cell_type": "markdown",
      "source": [
        "a[시작 번호:끝 번호]에서 시작 번호를 생략하면 문자열의 처음부터 끝 번호까지 뽑아낸다."
      ]
    },
    {
      "metadata": {
        "id": "eokg0uZ-UReZ",
        "colab_type": "code",
        "colab": {}
      },
      "cell_type": "code",
      "source": [
        "a = \"Life is too short, You need Python\"\n",
        "\n",
        "print(a[:])"
      ],
      "execution_count": 0,
      "outputs": []
    },
    {
      "metadata": {
        "id": "-hZIOejiURg3",
        "colab_type": "text"
      },
      "cell_type": "markdown",
      "source": [
        "a[시작 번호:끝 번호]에서 시작 번호, 끝 번호를 생략하면 문자열의 처음부터 끝까지 뽑아낸다."
      ]
    },
    {
      "metadata": {
        "id": "XhwpmLopURjG",
        "colab_type": "code",
        "colab": {
          "base_uri": "https://localhost:8080/",
          "height": 35
        },
        "outputId": "bcaa5fb6-314b-4554-c377-b093d9339c82"
      },
      "cell_type": "code",
      "source": [
        "a = \"Life is too short, You need Python\"\n",
        "\n",
        "print(a[19:-7])"
      ],
      "execution_count": 34,
      "outputs": [
        {
          "output_type": "stream",
          "text": [
            "You need\n"
          ],
          "name": "stdout"
        }
      ]
    },
    {
      "metadata": {
        "id": "rOR-t2KtZAn4",
        "colab_type": "text"
      },
      "cell_type": "markdown",
      "source": [
        "인덱싱과 마찬가지로 마이너스 기호 사용이 가능하다.\n",
        "\n",
        "위 예제에서 a[19:-7]이 뜻하는 것은 a[19]에서 a[-8]까지를 말한다. a[-7]은 포함하지 않는다!"
      ]
    },
    {
      "metadata": {
        "id": "ryLMy2kOZAq4",
        "colab_type": "text"
      },
      "cell_type": "markdown",
      "source": [
        "## 슬라이싱으로 문자열 나누기"
      ]
    },
    {
      "metadata": {
        "id": "InxugAycZAtd",
        "colab_type": "code",
        "colab": {}
      },
      "cell_type": "code",
      "source": [
        ""
      ],
      "execution_count": 0,
      "outputs": []
    },
    {
      "metadata": {
        "id": "SO-LJqMHZAwL",
        "colab_type": "code",
        "colab": {}
      },
      "cell_type": "code",
      "source": [
        ""
      ],
      "execution_count": 0,
      "outputs": []
    },
    {
      "metadata": {
        "id": "3uU1g4C5ZAy9",
        "colab_type": "code",
        "colab": {}
      },
      "cell_type": "code",
      "source": [
        ""
      ],
      "execution_count": 0,
      "outputs": []
    }
  ]
}